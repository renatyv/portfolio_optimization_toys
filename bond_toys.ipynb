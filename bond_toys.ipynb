{
 "cells": [
  {
   "cell_type": "markdown",
   "id": "40a04de0-8e87-4057-9667-492973c338cd",
   "metadata": {},
   "source": [
    "# Renat's finance toys"
   ]
  },
  {
   "cell_type": "markdown",
   "id": "e95fd2c7-124d-4aae-a099-3fad7052071b",
   "metadata": {},
   "source": [
    "Полезные ссылки:\n",
    "https://iss.moex.com/iss/reference/\n",
    "https://iss.moex.com/iss/index\n",
    "https://iss.moex.com/iss/engines/stock/markets/bonds\n",
    "\n",
    "https://traderhelper.ru/wiki/\n",
    "\n",
    "### TODO:\n",
    "    1. Оценить волатильность и прибыльность портфеля\n",
    "        a. Таблица строки (Дата, secid1, secid2,... secidn)\n",
    "        b. Вычислить матрицу корреляций df.corr(method=histogram_intersection)\n",
    "    2. Жадным алгоритмом собрать портфель с низкой волатильностью, но высокой выгодой\n",
    "    3. Оценить future spot rates исользуя Фьючерсы"
   ]
  },
  {
   "cell_type": "code",
   "execution_count": 79,
   "id": "a2264c30-173a-465b-aed8-ad657dda0b00",
   "metadata": {},
   "outputs": [],
   "source": [
    "from typing import Union, Any, List, Optional, cast\n",
    "import requests\n",
    "import numpy as np\n",
    "import datetime\n",
    "import apimoex\n",
    "import matplotlib\n",
    "import math\n",
    "import pandas as pd\n",
    "\n",
    "OFZ_CODE = \"SU26209RMFS5\"\n",
    "ALFA_VENTURE = \"RU000A100GW5\"\n",
    "VTB_2022 = \"RU000A1031A5\"\n",
    "BOARD = \"TQBR\"\n",
    "TAX_RATE = 13/100.0\n",
    "BROKER_COMISSION = 0.04/100"
   ]
  },
  {
   "cell_type": "code",
   "execution_count": 2,
   "id": "11f6e7bf-1d35-4f68-a239-15ffedddf562",
   "metadata": {},
   "outputs": [],
   "source": [
    "def per_period_rate_percent(effective_interest_rate:float, times_a_year:float) -> float:\n",
    "    \n",
    "    \"\"\"Returns nominal annual per-period rate (without compouning)\n",
    "        Parameters\n",
    "        ----------\n",
    "        effective_interest_rate : float\n",
    "            annual effective interest rate, %\n",
    "        times_a_year : float\n",
    "            number of compounding periods\n",
    "        Returns\n",
    "            ppr, (1+ppr)^times_a_year = 1+eir\n",
    "    \"\"\"\n",
    "    eir = effective_interest_rate/100\n",
    "    ppr = pow((1+eir),1/times_a_year)-1\n",
    "    return ppr*100"
   ]
  },
  {
   "cell_type": "code",
   "execution_count": 3,
   "id": "fac2df1f-bf48-4b6c-96b1-6a71cd597212",
   "metadata": {},
   "outputs": [
    {
     "data": {
      "text/plain": [
       "9.568968514684517"
      ]
     },
     "execution_count": 3,
     "metadata": {},
     "output_type": "execute_result"
    }
   ],
   "source": [
    "def eir_to_apr(eir:float, n:float) -> float:\n",
    "    \"\"\"Returns nominal annual percentage rate (without compounind)\n",
    "    Parameters\n",
    "    ----------\n",
    "    eir : float\n",
    "        effective interest rate (annual), %\n",
    "    times_a_year : float\n",
    "        number of compounding periods\n",
    "    Returns\n",
    "        apr, such that (1+apr/n)^n = 1+eir\n",
    "    \"\"\"\n",
    "    return per_period_rate_percent(eir,n)*n\n",
    "\n",
    "eir_to_apr(10,12)"
   ]
  },
  {
   "cell_type": "code",
   "execution_count": 4,
   "id": "eb495bf0-b4f8-4f5f-89d8-9c4d1aba2413",
   "metadata": {},
   "outputs": [],
   "source": [
    "# [(date, amount, tax),...)\n",
    "Cashflow = list[tuple[datetime.datetime,float,float]]"
   ]
  },
  {
   "cell_type": "code",
   "execution_count": 5,
   "id": "a3d63196-a4d7-4d76-a6dc-ad3df54f5553",
   "metadata": {},
   "outputs": [],
   "source": [
    "def npv_from_cashflow(cashflow : Cashflow,\n",
    "                      eirp:float,\n",
    "                     countTax:bool = True) -> float:\n",
    "    \"\"\"Returns Net Present Value\n",
    "    Parameters\n",
    "    cashflow: [(datetime.datetime.now(),10.0),...]\n",
    "    eirp: float\n",
    "        effective annual percent rate, e.g. 5.0 = 5% a year\n",
    "    \"\"\"\n",
    "#     if list is not empty\n",
    "    if cashflow:\n",
    "        npv = 0\n",
    "        now_date = datetime.datetime.combine(datetime.date.today(), datetime.datetime.min.time())\n",
    "        for (date,CF,tax) in cashflow:\n",
    "            cash = CF\n",
    "            if countTax:\n",
    "                cash -= tax\n",
    "            if date >= now_date:\n",
    "                n_years = (date-now_date).days/365.0\n",
    "#                 discount\n",
    "                npv += cash/math.pow(1+eirp/100,n_years)\n",
    "            else:\n",
    "                print('npv WARNING: cashflow '+str((date,CF,tax))+' is ignored')\n",
    "        return npv\n",
    "    else:\n",
    "        return None"
   ]
  },
  {
   "cell_type": "code",
   "execution_count": 6,
   "id": "f062d55c-5097-47d9-9c0b-02433fc123ea",
   "metadata": {},
   "outputs": [
    {
     "data": {
      "text/plain": [
       "92.98388403605128"
      ]
     },
     "execution_count": 6,
     "metadata": {},
     "output_type": "execute_result"
    }
   ],
   "source": [
    "cashflow = [(datetime.datetime(2022,12,1),100,0.0)]\n",
    "discountingFactor = 8 # %\n",
    "npv_from_cashflow(cashflow,discountingFactor)"
   ]
  },
  {
   "cell_type": "code",
   "execution_count": 7,
   "id": "c42f1e39-6e63-4ef8-8aaf-fca7b989e897",
   "metadata": {},
   "outputs": [],
   "source": [
    "def bond_aci(coupon:float,\n",
    "             times_a_year:float,\n",
    "             coupondate: datetime.datetime) -> float:\n",
    "    \"\"\" накопленный купонный доход \"\"\"\n",
    "    days_to_coupon = (coupondate - datetime.datetime.now()).days\n",
    "    days_between_coupons = 365.0/times_a_year\n",
    "    return coupon*(1-days_to_coupon/days_between_coupons)"
   ]
  },
  {
   "cell_type": "code",
   "execution_count": 8,
   "id": "42b7ba9c-2a4d-4024-91dc-b52665488b7a",
   "metadata": {},
   "outputs": [
    {
     "data": {
      "text/plain": [
       "32.08520547945205"
      ]
     },
     "execution_count": 8,
     "metadata": {},
     "output_type": "execute_result"
    }
   ],
   "source": [
    "bond_aci(37.9,2.0,datetime.datetime.fromisoformat('2022-01-19'))"
   ]
  },
  {
   "cell_type": "code",
   "execution_count": 9,
   "id": "946c5d3b-043f-40df-b89b-121d21fee639",
   "metadata": {},
   "outputs": [],
   "source": [
    "def simple_bond_cashflow(bondDict:dict[str,Any]) -> Cashflow:\n",
    "    \"\"\"simple bond cashflow taking into account tazws and broker comissions\n",
    "    Предположения: покупается сейчас,\n",
    "                    попадает в портфель завтра,\n",
    "                    держится до погашения номинала,\n",
    "                    платим налог с каждого купона.\n",
    "    \"\"\"\n",
    "    net_price = bondDict['PRICEP']*(1+BROKER_COMISSION)\n",
    "    #   режим торгов облигаций T+, то есть сделка только завтра завершится\n",
    "    tomorrow = datetime.datetime.now()+datetime.timedelta(days=1)\n",
    "    tax = 0.0\n",
    "    cashflow = [(tomorrow,-net_price,tax)]\n",
    "#     накопленный купонный доход\n",
    "    aci = 0\n",
    "#     Если еще будут купоны, вычисляем кэшфлоу для них\n",
    "    coupondate = bondDict['COUPONDATE']\n",
    "    maturitydate = bondDict['MATDATE']\n",
    "    times_a_year = bondDict['COUPONFREQUENCY']\n",
    "    if coupondate is not None:\n",
    "#       цена купона, в процентах от номинала\n",
    "        couponp = bondDict['COUPONPERCENT']/times_a_year\n",
    "#         вычисляем НКД и комиссию брокера с него\n",
    "        aci = bond_aci(couponp, times_a_year,coupondate)\n",
    "        net_aci = aci*(1+BROKER_COMISSION)\n",
    "        buy_aci_date = tomorrow\n",
    "        aci_tax = 0.0\n",
    "        cashflow.append((buy_aci_date,-net_aci,aci_tax))\n",
    "        # время между купонов\n",
    "        coupon_timedelta = datetime.timedelta(days=365/times_a_year)\n",
    "        # добавляем каждый купон в кэшфлоу\n",
    "        cur_date = coupondate\n",
    "        net_couponp = couponp*(1-BROKER_COMISSION)\n",
    "        coupon_tax = couponp*TAX_RATE\n",
    "        #   считаем только на 100 лет вперед\n",
    "        max_n = 100*int(times_a_year)\n",
    "        for i in range(max_n):\n",
    "            if maturitydate is None or (maturitydate - cur_date).days > 0:\n",
    "                cashflow.append((cur_date,net_couponp,coupon_tax))\n",
    "                cur_date += coupon_timedelta\n",
    "            else:\n",
    "                break\n",
    "#  если это Consol, то есть бесконечный бонд\n",
    "    if maturitydate is not None:        \n",
    "        face = 100 # %\n",
    "        net_face = face*(1-BROKER_COMISSION)\n",
    "        tax = 0.0\n",
    "    #     если облигацию держать меньше 3-х лет, платим налог с погашения\n",
    "        price = bondDict['PRICEP']\n",
    "        if (face > price) and (maturitydate-tomorrow).days < 3*365:\n",
    "    #       заплатим налог. #         При покупке облигаций НКД будет относиться к расходам. А при продаже – к доходам инвестора.\n",
    "            tax = (face-price)*TAX_RATE\n",
    "        cashflow.append((maturitydate,net_face,tax))\n",
    "    return cashflow"
   ]
  },
  {
   "cell_type": "code",
   "execution_count": 10,
   "id": "94be9694-e627-4130-bf83-b4eb307fd1fd",
   "metadata": {},
   "outputs": [],
   "source": [
    "def bond_cashflow(bondDict:dict[str,Any]) -> Cashflow: \n",
    "    if bondDict['PRICEP'] is None:\n",
    "        return []\n",
    "    elif bondDict['TYPE'] == 'SIMPLE' or bondDict['TYPE'] == 'CONSOL':\n",
    "        return simple_bond_cashflow(bondDict)\n",
    "    else:\n",
    "        print('unknown bond type '+bondDict['TYPE'])"
   ]
  },
  {
   "cell_type": "code",
   "execution_count": 63,
   "id": "de61cd93-7e58-4f55-bc79-38f190151df5",
   "metadata": {},
   "outputs": [],
   "source": [
    "def getAnnualStatData(secid:str, session:requests.session) -> dict[str,float]:\n",
    "    \"\"\"Get bond price from last trading day\n",
    "    https://iss.moex.com/iss/history/engines/stock/markets/bonds/securities/SU25083RMFS5?from=2021-12-12\n",
    "    https://iss.moex.com/iss/history/engines/stock/markets/bonds/securities?from=2021-12-12\n",
    "    Parameters\n",
    "        secid: security id\n",
    "        session: request.Session, HTTP session\n",
    "    Return\n",
    "        price in percent\n",
    "    \"\"\"\n",
    "    today = datetime.date.today().strftime(\"%Y-%m-%d\")\n",
    "    year_ago =  (datetime.date.today() - datetime.timedelta(days = 365)).strftime(\"%Y-%m-%d\")\n",
    "    price_data = apimoex.get_market_history(session, secid, year_ago, today, ('CLOSE', 'MARKETPRICE3','NUMTRADES'),'bonds', 'stock')\n",
    "    price_data_frame = pd.DataFrame(price_data)\n",
    "    mean = price_data_frame['MARKETPRICE3'].mean()\n",
    "    std = price_data_frame['MARKETPRICE3'].std()\n",
    "#     last element\n",
    "    pricep = price_data_frame.loc[price_data_frame.index[-1],'MARKETPRICE3']\n",
    "    meanNumTrades = price_data_frame['NUMTRADES'].mean()\n",
    "    return {'PRICEPMEAN':mean,'PRICEPSTD':std,'PRICEP':pricep,'MEANNUMREADES':meanNumTrades}"
   ]
  },
  {
   "cell_type": "code",
   "execution_count": 64,
   "id": "8260f8f4-eb8d-48d0-ad59-22918d016406",
   "metadata": {},
   "outputs": [],
   "source": [
    "def downloadBondInfo(secid:str, session:requests.session) -> dict[str,Any]:\n",
    "    \"\"\" Download bond info from moex.com\n",
    "    \"\"\"\n",
    "\n",
    "#     https://iss.moex.com/iss/reference/13\n",
    "#     https://iss.moex.com/iss/securities/\n",
    "    data = apimoex.find_security_description(session, secid, ('name', 'title', 'value'))\n",
    "    # data = Список словарей, которые напрямую конвертируется в pandas.DataFrame\n",
    "    # создаем датафрейм из \n",
    "    df = pd.DataFrame(data)\n",
    "    df.set_index('name', inplace=True)\n",
    "    bond_info = {'SECID':df.loc[\"SECID\",\"value\"],\n",
    "                'NAME':df.loc[\"NAME\",\"value\"],\n",
    "                'FACEVALUE':np.float64(df.loc[\"FACEVALUE\",\"value\"]),\n",
    "                'COUPONFREQUENCY':float(df.loc[\"COUPONFREQUENCY\",\"value\"]),\n",
    "                'COUPONVALUE':0,\n",
    "                'COUPONPERCENT':0,\n",
    "                'COUPONDATE':None,\n",
    "                'MATDATE':None,\n",
    "                'PRICEP':None}\n",
    "    if \"COUPONVALUE\" in df.index:\n",
    "        bond_info['COUPONVALUE'] = np.float64(df.loc[\"COUPONVALUE\",\"value\"])\n",
    "    if \"COUPONPERCENT\" in df.index:\n",
    "        bond_info['COUPONPERCENT'] = np.float64(df.loc[\"COUPONPERCENT\",\"value\"])\n",
    "#     next coupon date\n",
    "    if \"COUPONDATE\" in df.index:\n",
    "        bond_info['COUPONDATE'] = datetime.datetime.fromisoformat(df.loc[\"COUPONDATE\",\"value\"])\n",
    "    if 'MATDATE' in df.index:\n",
    "        bond_maturity = datetime.datetime.fromisoformat(df.loc[\"MATDATE\",\"value\"])\n",
    "        bond_info['MATDATE'] = bond_maturity    \n",
    "        bond_info['TYPE'] = 'SIMPLE'\n",
    "    else:\n",
    "        bond_info['TYPE'] = 'CONSOL'\n",
    "    # now_date = datetime.datetime.combine(datetime.date.today(), datetime.datetime.min.time())\n",
    "    stat_data = getAnnualStatData(bond_info['SECID'],\n",
    "                                  session)\n",
    "    bond_info.update(stat_data)\n",
    "    # if bond_info['TYPE'] == 'CONSOL' or (bond_maturity - datetime.datetime.now()).days >= 0:\n",
    "    #     bondPricePercent = getBondPricePercent(bond_info['SECID'],session)\n",
    "    #     if bondPricePercent is not None:\n",
    "    #         bond_info['PRICE'] = bond_info['FACEVALUE']*bondPricePercent/100\n",
    "    return bond_info\n",
    "    #     Получить историю по одной бумаге на рынке для всех режимов торгов за интервал дат.\n"
   ]
  },
  {
   "cell_type": "code",
   "execution_count": 65,
   "id": "31cd6589-74b0-42a7-98a8-a46f3eb095b6",
   "metadata": {},
   "outputs": [],
   "source": [
    "with requests.Session() as session:\n",
    "    ofzDict = downloadBondInfo(OFZ_CODE,session)\n",
    "    alfaDict = downloadBondInfo(ALFA_VENTURE,session)"
   ]
  },
  {
   "cell_type": "code",
   "execution_count": 66,
   "id": "2a0e0e00-e14f-41fe-bb5d-28ca57bb30f5",
   "metadata": {},
   "outputs": [],
   "source": [
    "def bond_npv(isin:str, discouning_percent:float, session = None) -> float:\n",
    "    npv = None\n",
    "    if session is not None:\n",
    "        npv = npv_from_cashflow(bond_cashflow(downloadBondInfo(isin,session)),discouning_percent)\n",
    "    else:\n",
    "        with requests.Session() as session:\n",
    "            npv = npv_from_cashflow(bond_cashflow(downloadBondInfo(isin,session)),\n",
    "                                    discouning_percent)            \n",
    "    return npv"
   ]
  },
  {
   "cell_type": "code",
   "execution_count": 67,
   "id": "5545e1ad-3959-4a4c-a47e-891a15069521",
   "metadata": {},
   "outputs": [
    {
     "data": {
      "text/plain": [
       "-4.493354530366929"
      ]
     },
     "execution_count": 67,
     "metadata": {},
     "output_type": "execute_result"
    }
   ],
   "source": [
    "bond_npv('SU26209RMFS5',8.5)"
   ]
  },
  {
   "cell_type": "code",
   "execution_count": 68,
   "id": "af5b1b81-5049-4d18-a9fa-a18b12916832",
   "metadata": {},
   "outputs": [
    {
     "data": {
      "text/plain": [
       "-0.464127942637802"
      ]
     },
     "execution_count": 68,
     "metadata": {},
     "output_type": "execute_result"
    }
   ],
   "source": [
    "bond_npv('SU26209RMFS5',1)"
   ]
  },
  {
   "cell_type": "code",
   "execution_count": 69,
   "id": "d3c610b7-56e8-488e-88da-8066c1ebbec8",
   "metadata": {},
   "outputs": [
    {
     "data": {
      "text/plain": [
       "{'SECID': 'SU26209RMFS5',\n",
       " 'NAME': 'ОФЗ-ПД 26209 20/07/22',\n",
       " 'FACEVALUE': 1000.0,\n",
       " 'COUPONFREQUENCY': 2.0,\n",
       " 'COUPONVALUE': 37.9,\n",
       " 'COUPONPERCENT': 7.6,\n",
       " 'COUPONDATE': datetime.datetime(2022, 1, 19, 0, 0),\n",
       " 'MATDATE': datetime.datetime(2022, 7, 20, 0, 0),\n",
       " 'PRICEP': 99.882,\n",
       " 'TYPE': 'SIMPLE',\n",
       " 'PRICEPMEAN': 101.86417254901961,\n",
       " 'PRICEPSTD': 1.633136157908182,\n",
       " 'MEANNUMREADES': 968.0509803921568}"
      ]
     },
     "execution_count": 69,
     "metadata": {},
     "output_type": "execute_result"
    }
   ],
   "source": [
    "downloadBondInfo('SU26209RMFS5',session)"
   ]
  },
  {
   "cell_type": "code",
   "execution_count": 70,
   "id": "be4c3e0f-1c89-4a60-9a8a-ae647bb231e6",
   "metadata": {},
   "outputs": [
    {
     "data": {
      "text/plain": [
       "[(datetime.datetime(2021, 12, 22, 15, 6, 59, 156039), -99.9219528, 0.0),\n",
       " (datetime.datetime(2021, 12, 22, 15, 6, 59, 156039),\n",
       "  -3.2182730958904107,\n",
       "  0.0),\n",
       " (datetime.datetime(2022, 1, 19, 0, 0), 3.79848, 0.494),\n",
       " (datetime.datetime(2022, 7, 20, 0, 0),\n",
       "  99.96000000000001,\n",
       "  0.01533999999999935)]"
      ]
     },
     "execution_count": 70,
     "metadata": {},
     "output_type": "execute_result"
    }
   ],
   "source": [
    "bond_cashflow(downloadBondInfo('SU26209RMFS5',session))"
   ]
  },
  {
   "cell_type": "code",
   "execution_count": 71,
   "id": "0000144f-f8da-449b-baaa-906b6f9864d6",
   "metadata": {},
   "outputs": [
    {
     "data": {
      "text/plain": [
       "-4.493354530366929"
      ]
     },
     "execution_count": 71,
     "metadata": {},
     "output_type": "execute_result"
    }
   ],
   "source": [
    "npv_from_cashflow(bond_cashflow(downloadBondInfo('SU26209RMFS5',session)),8.5)"
   ]
  },
  {
   "cell_type": "code",
   "execution_count": 72,
   "id": "bc2fa93e-4fd9-4433-98ed-6734aa6132ad",
   "metadata": {
    "tags": []
   },
   "outputs": [],
   "source": [
    "# def find_simple_ofz(session:requests.session) -> pd.DataFrame:\n",
    "#     data = apimoex.\n",
    "with requests.Session() as session:\n",
    "    url = \"https://iss.moex.com/iss/securities.json\"\n",
    "    query = {'is_trading':'1','q':'ОФЗ-ПД','securities.columns':'secid'}\n",
    "    data = (apimoex.ISSClient(session, url, query).get())['securities']\n",
    "    df = pd.DataFrame(data)\n",
    "    for idx, row in df.iterrows():\n",
    "        secid = row['secid']\n",
    "        try:\n",
    "            bondInfo = downloadBondInfo(secid,session)\n",
    "            for key, value in bondInfo.items():\n",
    "                df.loc[idx,key] = value\n",
    "        except KeyError as ke:\n",
    "            print('error secid:',secid)\n",
    "            print(ke)\n",
    "        except TypeError as te:\n",
    "            print('error secid:',secid)\n",
    "            print(te)"
   ]
  },
  {
   "cell_type": "code",
   "execution_count": 88,
   "id": "82332502-f89f-4c41-839d-05eae59d5537",
   "metadata": {},
   "outputs": [
    {
     "name": "stdout",
     "output_type": "stream",
     "text": [
      "           secid   PRICEP       npv  PRICEPSTD  MEANNUMREADES    MATDATE\n",
      "7   SU26234RMFS3   88.055 -1.376544   2.451483     659.072797 2025-07-16\n",
      "27  SU26236RMFS8   86.974 -1.517854   3.446953      97.296992 2028-05-17\n",
      "24  SU26237RMFS6   91.002 -1.577668   3.228273     170.643357 2029-03-14\n",
      "22  SU26232RMFS7   89.199 -1.614706   3.452069     257.674510 2027-10-06\n",
      "21  SU26235RMFS0   84.954 -1.764357   3.885858     208.135338 2031-03-12\n",
      "11  SU26233RMFS5   82.947 -1.860280   3.875943     997.803030 2035-07-18\n",
      "18  SU26212RMFS9   93.726 -1.879442   3.826465     361.875000 2028-01-19\n",
      "25  SU26240RMFS0   89.724 -1.880263   3.661272     160.628571 2036-07-30\n",
      "26  SU26239RMFS2   91.016 -1.889777   3.365351     143.779221 2031-07-23\n",
      "17  SU26225RMFS1   92.562 -2.096550   4.240876     362.476562 2034-05-10\n",
      "23  SU26238RMFS4   89.669 -2.100057   3.935142     269.659420 2041-05-15\n",
      "5   SU26229RMFS3   95.757 -2.238222   3.320222     269.360465 2025-11-12\n",
      "19  SU26221RMFS0   96.242 -2.299024   4.332584     257.373541 2033-03-23\n",
      "13  SU26224RMFS4   92.632 -2.300255   3.943513     272.073930 2029-05-23\n",
      "12  SU26230RMFS1   95.696 -2.323533   4.799386     497.351562 2039-03-16\n",
      "2   SU26223RMFS6   95.980 -2.340770   2.452460     915.657588 2024-02-28\n",
      "16  SU25084RMFS3   95.104 -2.380048   1.917281     457.507812 2023-10-04\n",
      "14  SU26226RMFS9   98.228 -2.409052   3.743754     348.560784 2026-10-07\n",
      "15  SU26218RMFS6  101.654 -2.430986   4.737117     306.513725 2031-09-17\n",
      "9   SU26222RMFS8   96.614 -2.512521   2.928615     333.535156 2024-10-16\n",
      "20  SU26219RMFS4   97.653 -2.535543   3.714669     236.615686 2026-09-16\n",
      "1   SU26207RMFS9   99.128 -2.555756   3.933446     513.949020 2027-02-03\n",
      "10  SU26228RMFS5   96.744 -2.690555   4.290956     295.509804 2030-04-10\n",
      "3   SU26227RMFS7   97.583 -2.732468   2.891589     567.183594 2024-07-17\n",
      "8   SU26215RMFS2   97.943 -3.073212   2.293251     463.815686 2023-08-16\n",
      "6   SU26211RMFS1   98.890 -3.520017   1.948258     610.105882 2023-01-25\n",
      "4   SU26220RMFS2   99.345 -3.676188   1.956478     511.219608 2022-12-07\n",
      "0   SU26209RMFS5   99.882 -3.986580   1.633136     968.050980 2022-07-20\n",
      "28  SU25085RMFS0      NaN       NaN        NaN       0.015385 2025-09-24\n",
      "29  SU26231RMFS9      NaN       NaN        NaN       0.000000 2044-07-20\n"
     ]
    }
   ],
   "source": [
    "r_percent = 8.5 # %\n",
    "for idx, row in df.iterrows():\n",
    "    secid = row['secid']\n",
    "    # print(row)\n",
    "    bond_info = {'TYPE':row['TYPE'],\n",
    "            'FACEVALUE':row['FACEVALUE'],\n",
    "            'COUPONVALUE':row['COUPONVALUE'],\n",
    "            'COUPONPERCENT':row['COUPONPERCENT'],\n",
    "            'COUPONFREQUENCY':row['COUPONFREQUENCY'],\n",
    "            'COUPONDATE':row['COUPONDATE'],\n",
    "            'PRICEP':row['PRICEP'],\n",
    "            'PRICEPSTD':row['PRICEPSTD'],\n",
    "            'MEANNUMREADES':row['MEANNUMREADES'],\n",
    "            'MATDATE':row['MATDATE']} \n",
    "    bond_npv = npv_from_cashflow(bond_cashflow(bond_info),\n",
    "                                 r_percent,\n",
    "                                countTax=False)\n",
    "    df.loc[idx,'npv'] = bond_npv\n",
    "sorted_df = df.sort_values(by='npv',ascending=False)\n",
    "print(sorted_df.loc[:,['secid','PRICEP','npv','PRICEPSTD','MEANNUMREADES','MATDATE']])"
   ]
  },
  {
   "cell_type": "code",
   "execution_count": 89,
   "id": "55832eb4-8dc4-40a2-b7c1-b4b9d66fa071",
   "metadata": {},
   "outputs": [
    {
     "data": {
      "image/png": "[encoded data removed]",
      "text/plain": [
       "<Figure size 432x288 with 1 Axes>"
      ]
     },
     "metadata": {
      "needs_background": "light"
     },
     "output_type": "display_data"
    }
   ],
   "source": [
    "ax1 = sorted_df.plot.scatter(x='PRICEPSTD',\n",
    "                             y='npv',\n",
    "                             c='DarkBlue')"
   ]
  },
  {
   "cell_type": "code",
   "execution_count": null,
   "id": "68487bc3-8145-41f8-81f1-3cb005269cdb",
   "metadata": {},
   "outputs": [],
   "source": []
  }
 ],
 "metadata": {
  "kernelspec": {
   "display_name": "Python 3 (ipykernel)",
   "language": "python",
   "name": "python3"
  },
  "language_info": {
   "codemirror_mode": {
    "name": "ipython",
    "version": 3
   },
   "file_extension": ".py",
   "mimetype": "text/x-python",
   "name": "python",
   "nbconvert_exporter": "python",
   "pygments_lexer": "ipython3",
   "version": "3.9.8"
  }
 },
 "nbformat": 4,
 "nbformat_minor": 5
}
