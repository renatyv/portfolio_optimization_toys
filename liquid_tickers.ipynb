{
 "cells": [
  {
   "cell_type": "markdown",
   "metadata": {},
   "source": [
    "### Get all tickers"
   ]
  },
  {
   "cell_type": "code",
   "execution_count": 6,
   "metadata": {},
   "outputs": [],
   "source": [
    "tickers_nyse_df = pd.read_csv(\"data/nyse-listed.csv\").loc[:, ['ticker', 'sharesOutstanding']].set_index('ticker')\n",
    "tickers_nasdaq_df = pd.read_csv(\"data/nasdaq-listed.csv\").loc[:, ['ticker', 'sharesOutstanding']].set_index('ticker')\n",
    "tickers_snp500_df = pd.read_csv(\"data/snp500-listed.csv\").loc[:, ['ticker', 'sharesOutstanding']].set_index('ticker')"
   ]
  },
  {
   "cell_type": "code",
   "execution_count": 15,
   "metadata": {},
   "outputs": [],
   "source": [
    "all_tickers_df = tickers_nyse_df.join(tickers_nasdaq_df, how='outer', rsuffix='_nasdaq').join(tickers_snp500_df, how='outer', rsuffix='_snp500')"
   ]
  },
  {
   "cell_type": "code",
   "execution_count": 16,
   "metadata": {},
   "outputs": [
    {
     "data": {
      "text/plain": "        sharesOutstanding  sharesOutstanding_nasdaq  sharesOutstanding_snp500\nticker                                                                       \nA             302000992.0                       NaN               302000992.0\nAA            187103008.0                       NaN                       NaN\nAAC           100000000.0                       NaN                       NaN\nAACG                  NaN                31376900.0                       NaN\nAACI                  NaN                20709500.0                       NaN",
      "text/html": "<div>\n<style scoped>\n    .dataframe tbody tr th:only-of-type {\n        vertical-align: middle;\n    }\n\n    .dataframe tbody tr th {\n        vertical-align: top;\n    }\n\n    .dataframe thead th {\n        text-align: right;\n    }\n</style>\n<table border=\"1\" class=\"dataframe\">\n  <thead>\n    <tr style=\"text-align: right;\">\n      <th></th>\n      <th>sharesOutstanding</th>\n      <th>sharesOutstanding_nasdaq</th>\n      <th>sharesOutstanding_snp500</th>\n    </tr>\n    <tr>\n      <th>ticker</th>\n      <th></th>\n      <th></th>\n      <th></th>\n    </tr>\n  </thead>\n  <tbody>\n    <tr>\n      <th>A</th>\n      <td>302000992.0</td>\n      <td>NaN</td>\n      <td>302000992.0</td>\n    </tr>\n    <tr>\n      <th>AA</th>\n      <td>187103008.0</td>\n      <td>NaN</td>\n      <td>NaN</td>\n    </tr>\n    <tr>\n      <th>AAC</th>\n      <td>100000000.0</td>\n      <td>NaN</td>\n      <td>NaN</td>\n    </tr>\n    <tr>\n      <th>AACG</th>\n      <td>NaN</td>\n      <td>31376900.0</td>\n      <td>NaN</td>\n    </tr>\n    <tr>\n      <th>AACI</th>\n      <td>NaN</td>\n      <td>20709500.0</td>\n      <td>NaN</td>\n    </tr>\n  </tbody>\n</table>\n</div>"
     },
     "execution_count": 16,
     "metadata": {},
     "output_type": "execute_result"
    }
   ],
   "source": [
    "all_tickers_df.head()"
   ]
  },
  {
   "cell_type": "markdown",
   "metadata": {},
   "source": [
    "## Find tickers which are actively trading these days."
   ]
  },
  {
   "cell_type": "code",
   "execution_count": 22,
   "outputs": [],
   "source": [
    "tickers_nyse_df.append(tickers_nasdaq_df).append(tickers_snp500_df).to_csv('data/shares_outstanding')"
   ],
   "metadata": {
    "collapsed": false,
    "pycharm": {
     "name": "#%%\n"
    }
   }
  },
  {
   "cell_type": "markdown",
   "source": [],
   "metadata": {
    "collapsed": false
   }
  },
  {
   "cell_type": "code",
   "execution_count": 23,
   "outputs": [],
   "source": [
    "tickers_df = pd.read_csv('data/shares_outstanding.csv',index_col='ticker')"
   ],
   "metadata": {
    "collapsed": false,
    "pycharm": {
     "name": "#%%\n"
    }
   }
  },
  {
   "cell_type": "code",
   "execution_count": 29,
   "outputs": [
    {
     "data": {
      "text/plain": "{'A': 302000992.0, 'AA': 187103008.0}"
     },
     "execution_count": 29,
     "metadata": {},
     "output_type": "execute_result"
    }
   ],
   "source": [
    "tickers_df.head().loc[['A','AA'],'sharesOutstanding'].dropna().to_dict()"
   ],
   "metadata": {
    "collapsed": false,
    "pycharm": {
     "name": "#%%\n"
    }
   }
  },
  {
   "cell_type": "code",
   "execution_count": 96,
   "metadata": {},
   "outputs": [
    {
     "data": {
      "text/plain": [
       "<module 'finance_helper' from '/Users/renatyv/Dropbox/finance/my_finance/python/finance_helper.py'>"
      ]
     },
     "execution_count": 96,
     "metadata": {},
     "output_type": "execute_result"
    }
   ],
   "source": [
    "importlib.reload(dataloader)"
   ]
  },
  {
   "cell_type": "code",
   "execution_count": 97,
   "metadata": {},
   "outputs": [
    {
     "name": "stdout",
     "output_type": "stream",
     "text": [
      "[*********************100%***********************]  1 of 1 completed\n"
     ]
    }
   ],
   "source": [
    "for idx,row in all_tickers[all_tickers['quoteType']=='EQUITY'].iterrows():\n",
    "    ticker = row['ticker']\n",
    "    if dataloader.isLiquid(ticker):\n",
    "        liquid_tickers.add(ticker)"
   ]
  },
  {
   "cell_type": "code",
   "execution_count": 98,
   "metadata": {},
   "outputs": [
    {
     "data": {
      "text/plain": [
       "4757"
      ]
     },
     "execution_count": 98,
     "metadata": {},
     "output_type": "execute_result"
    }
   ],
   "source": [
    "len(liquid_tickers)"
   ]
  },
  {
   "cell_type": "code",
   "execution_count": 99,
   "metadata": {},
   "outputs": [],
   "source": [
    "liquid_df = pd.DataFrame({'ticker':list(liquid_tickers)})"
   ]
  },
  {
   "cell_type": "code",
   "execution_count": 100,
   "metadata": {},
   "outputs": [
    {
     "name": "stdout",
     "output_type": "stream",
     "text": [
      "<class 'pandas.core.frame.DataFrame'>\n",
      "RangeIndex: 4757 entries, 0 to 4756\n",
      "Data columns (total 1 columns):\n",
      " #   Column  Non-Null Count  Dtype \n",
      "---  ------  --------------  ----- \n",
      " 0   ticker  4757 non-null   object\n",
      "dtypes: object(1)\n",
      "memory usage: 37.3+ KB\n"
     ]
    }
   ],
   "source": [
    "liquid_df.info()"
   ]
  },
  {
   "cell_type": "code",
   "execution_count": 101,
   "metadata": {},
   "outputs": [],
   "source": [
    "liquid_df.to_csv('data/liquid_tickers.csv')"
   ]
  },
  {
   "cell_type": "code",
   "execution_count": null,
   "metadata": {},
   "outputs": [],
   "source": []
  },
  {
   "cell_type": "code",
   "execution_count": 3,
   "outputs": [],
   "source": [
    "sho = pd.read_csv('data/shares_outstanding.csv', index_col='ticker').dropna().drop_duplicates(keep='first')"
   ],
   "metadata": {
    "collapsed": false,
    "pycharm": {
     "name": "#%%\n"
    }
   }
  },
  {
   "cell_type": "code",
   "execution_count": 4,
   "outputs": [
    {
     "data": {
      "text/plain": "        sharesOutstanding\nticker                   \nA             302000992.0\nAA            187103008.0\nAAC           100000000.0\nAAN            31483200.0\nAAP            62355200.0",
      "text/html": "<div>\n<style scoped>\n    .dataframe tbody tr th:only-of-type {\n        vertical-align: middle;\n    }\n\n    .dataframe tbody tr th {\n        vertical-align: top;\n    }\n\n    .dataframe thead th {\n        text-align: right;\n    }\n</style>\n<table border=\"1\" class=\"dataframe\">\n  <thead>\n    <tr style=\"text-align: right;\">\n      <th></th>\n      <th>sharesOutstanding</th>\n    </tr>\n    <tr>\n      <th>ticker</th>\n      <th></th>\n    </tr>\n  </thead>\n  <tbody>\n    <tr>\n      <th>A</th>\n      <td>302000992.0</td>\n    </tr>\n    <tr>\n      <th>AA</th>\n      <td>187103008.0</td>\n    </tr>\n    <tr>\n      <th>AAC</th>\n      <td>100000000.0</td>\n    </tr>\n    <tr>\n      <th>AAN</th>\n      <td>31483200.0</td>\n    </tr>\n    <tr>\n      <th>AAP</th>\n      <td>62355200.0</td>\n    </tr>\n  </tbody>\n</table>\n</div>"
     },
     "execution_count": 4,
     "metadata": {},
     "output_type": "execute_result"
    }
   ],
   "source": [
    "sho.head()"
   ],
   "metadata": {
    "collapsed": false,
    "pycharm": {
     "name": "#%%\n"
    }
   }
  },
  {
   "cell_type": "code",
   "execution_count": 5,
   "outputs": [],
   "source": [
    "sho.to_csv('data/shares_outstanding.csv')"
   ],
   "metadata": {
    "collapsed": false,
    "pycharm": {
     "name": "#%%\n"
    }
   }
  }
 ],
 "metadata": {
  "kernelspec": {
   "display_name": "Python 3 (ipykernel)",
   "language": "python",
   "name": "python3"
  },
  "language_info": {
   "codemirror_mode": {
    "name": "ipython",
    "version": 3
   },
   "file_extension": ".py",
   "mimetype": "text/x-python",
   "name": "python",
   "nbconvert_exporter": "python",
   "pygments_lexer": "ipython3",
   "version": "3.9.8"
  },
  "pycharm": {
   "stem_cell": {
    "cell_type": "raw",
    "source": [
     "import importlib\n",
     "import datetime\n",
     "import matplotlib.pyplot as plt\n",
     "import pandas as pd\n",
     "import numpy as np\n",
     "import os.path\n",
     "import pypoanal.dataloader as dataloader"
    ],
    "metadata": {
     "collapsed": false
    }
   }
  }
 },
 "nbformat": 4,
 "nbformat_minor": 4
}