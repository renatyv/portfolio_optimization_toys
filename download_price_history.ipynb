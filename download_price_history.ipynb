{
 "cells": [
  {
   "cell_type": "markdown",
   "id": "5e0116cc-332d-4edc-9eac-e29a1f79605d",
   "metadata": {},
   "source": [
    " ## Download price and trading volume hitory\n",
    "Running this notebook you will download and save price (and volume) history for each ticker in **priceVolData/** directory"
   ]
  },
  {
   "cell_type": "markdown",
   "id": "ecb045e9-2c8c-4fb6-9b77-e928c8da2b9b",
   "metadata": {},
   "source": [
    "First, lets import some libraries"
   ]
  },
  {
   "cell_type": "code",
   "execution_count": 1,
   "id": "9bcacb23-8cc9-4b9d-8106-b538d747b6a0",
   "metadata": {},
   "outputs": [],
   "source": [
    "import pypoanal.dataloader as dataloader\n",
    "import pandas as pd\n",
    "import importlib\n",
    "from yahoo_fin import stock_info as yfsi"
   ]
  },
  {
   "cell_type": "markdown",
   "id": "234b2fc3",
   "metadata": {
    "pycharm": {
     "name": "#%% md\n"
    }
   },
   "source": [
    "## Load tickers\n",
    "Now let's load tickers, downloaded using ```download_ticker_data.ipynb```.\n",
    "For example, lets use S&P500 tickers"
   ]
  },
  {
   "cell_type": "code",
   "execution_count": 2,
   "id": "27ba78db",
   "metadata": {
    "pycharm": {
     "name": "#%%\n"
    }
   },
   "outputs": [],
   "source": [
    "snp500_tickers_df = pd.read_csv('info/snp500-listed.csv',index_col='index')"
   ]
  },
  {
   "cell_type": "markdown",
   "id": "2707ec11-5f74-4cf6-b1af-c78a4443faf8",
   "metadata": {},
   "source": [
    "Let's see what we have..."
   ]
  },
  {
   "cell_type": "code",
   "execution_count": 3,
   "id": "8ada99d6",
   "metadata": {
    "pycharm": {
     "name": "#%%\n"
    }
   },
   "outputs": [
    {
     "data": {
      "text/html": [
       "<div>\n",
       "<style scoped>\n",
       "    .dataframe tbody tr th:only-of-type {\n",
       "        vertical-align: middle;\n",
       "    }\n",
       "\n",
       "    .dataframe tbody tr th {\n",
       "        vertical-align: top;\n",
       "    }\n",
       "\n",
       "    .dataframe thead th {\n",
       "        text-align: right;\n",
       "    }\n",
       "</style>\n",
       "<table border=\"1\" class=\"dataframe\">\n",
       "  <thead>\n",
       "    <tr style=\"text-align: right;\">\n",
       "      <th></th>\n",
       "      <th>ticker</th>\n",
       "      <th>quoteType</th>\n",
       "      <th>marketCap</th>\n",
       "      <th>sharesOutstanding</th>\n",
       "      <th>exchange</th>\n",
       "      <th>bookValue</th>\n",
       "      <th>longName</th>\n",
       "      <th>shortName</th>\n",
       "      <th>trailingPE</th>\n",
       "      <th>trailingAnnualDividendYield</th>\n",
       "    </tr>\n",
       "    <tr>\n",
       "      <th>index</th>\n",
       "      <th></th>\n",
       "      <th></th>\n",
       "      <th></th>\n",
       "      <th></th>\n",
       "      <th></th>\n",
       "      <th></th>\n",
       "      <th></th>\n",
       "      <th></th>\n",
       "      <th></th>\n",
       "      <th></th>\n",
       "    </tr>\n",
       "  </thead>\n",
       "  <tbody>\n",
       "    <tr>\n",
       "      <th>0</th>\n",
       "      <td>A</td>\n",
       "      <td>EQUITY</td>\n",
       "      <td>4.181506e+10</td>\n",
       "      <td>3.020010e+08</td>\n",
       "      <td>NYQ</td>\n",
       "      <td>17.832</td>\n",
       "      <td>Agilent Technologies, Inc.</td>\n",
       "      <td>Agilent Technologies, Inc.</td>\n",
       "      <td>35.142130</td>\n",
       "      <td>0.005689</td>\n",
       "    </tr>\n",
       "    <tr>\n",
       "      <th>1</th>\n",
       "      <td>AAL</td>\n",
       "      <td>EQUITY</td>\n",
       "      <td>1.180418e+10</td>\n",
       "      <td>6.475140e+08</td>\n",
       "      <td>NMS</td>\n",
       "      <td>-11.486</td>\n",
       "      <td>American Airlines Group Inc.</td>\n",
       "      <td>American Airlines Group, Inc.</td>\n",
       "      <td>NaN</td>\n",
       "      <td>0.000000</td>\n",
       "    </tr>\n",
       "    <tr>\n",
       "      <th>2</th>\n",
       "      <td>AAP</td>\n",
       "      <td>EQUITY</td>\n",
       "      <td>1.343100e+10</td>\n",
       "      <td>6.235520e+07</td>\n",
       "      <td>NYQ</td>\n",
       "      <td>51.663</td>\n",
       "      <td>Advance Auto Parts, Inc.</td>\n",
       "      <td>Advance Auto Parts Inc.</td>\n",
       "      <td>21.936552</td>\n",
       "      <td>0.011646</td>\n",
       "    </tr>\n",
       "    <tr>\n",
       "      <th>3</th>\n",
       "      <td>AAPL</td>\n",
       "      <td>EQUITY</td>\n",
       "      <td>2.925343e+12</td>\n",
       "      <td>1.640640e+10</td>\n",
       "      <td>NMS</td>\n",
       "      <td>3.841</td>\n",
       "      <td>Apple Inc.</td>\n",
       "      <td>Apple Inc.</td>\n",
       "      <td>31.783420</td>\n",
       "      <td>0.004883</td>\n",
       "    </tr>\n",
       "    <tr>\n",
       "      <th>4</th>\n",
       "      <td>ABBV</td>\n",
       "      <td>EQUITY</td>\n",
       "      <td>2.865734e+11</td>\n",
       "      <td>1.767880e+09</td>\n",
       "      <td>NYQ</td>\n",
       "      <td>7.665</td>\n",
       "      <td>AbbVie Inc.</td>\n",
       "      <td>AbbVie Inc.</td>\n",
       "      <td>38.632030</td>\n",
       "      <td>0.032443</td>\n",
       "    </tr>\n",
       "  </tbody>\n",
       "</table>\n",
       "</div>"
      ],
      "text/plain": [
       "      ticker quoteType     marketCap  sharesOutstanding exchange  bookValue  \\\n",
       "index                                                                         \n",
       "0          A    EQUITY  4.181506e+10       3.020010e+08      NYQ     17.832   \n",
       "1        AAL    EQUITY  1.180418e+10       6.475140e+08      NMS    -11.486   \n",
       "2        AAP    EQUITY  1.343100e+10       6.235520e+07      NYQ     51.663   \n",
       "3       AAPL    EQUITY  2.925343e+12       1.640640e+10      NMS      3.841   \n",
       "4       ABBV    EQUITY  2.865734e+11       1.767880e+09      NYQ      7.665   \n",
       "\n",
       "                           longName                      shortName  \\\n",
       "index                                                                \n",
       "0        Agilent Technologies, Inc.     Agilent Technologies, Inc.   \n",
       "1      American Airlines Group Inc.  American Airlines Group, Inc.   \n",
       "2          Advance Auto Parts, Inc.        Advance Auto Parts Inc.   \n",
       "3                        Apple Inc.                     Apple Inc.   \n",
       "4                       AbbVie Inc.                    AbbVie Inc.   \n",
       "\n",
       "       trailingPE  trailingAnnualDividendYield  \n",
       "index                                           \n",
       "0       35.142130                     0.005689  \n",
       "1             NaN                     0.000000  \n",
       "2       21.936552                     0.011646  \n",
       "3       31.783420                     0.004883  \n",
       "4       38.632030                     0.032443  "
      ]
     },
     "execution_count": 3,
     "metadata": {},
     "output_type": "execute_result"
    }
   ],
   "source": [
    "snp500_tickers_df.head()"
   ]
  },
  {
   "cell_type": "markdown",
   "id": "45e58d4f-23f8-45d3-9494-9d40c30391c7",
   "metadata": {},
   "source": [
    "Load tickers for NASDAQ and NYSE in the same way"
   ]
  },
  {
   "cell_type": "code",
   "execution_count": 6,
   "id": "3726f817",
   "metadata": {
    "pycharm": {
     "name": "#%%\n"
    }
   },
   "outputs": [],
   "source": [
    "nasdaq_tickers_df = pd.read_csv('info/nasdaq-listed.csv',index_col='index')"
   ]
  },
  {
   "cell_type": "markdown",
   "id": "bd103169-f6c7-4573-bdf4-26d6c046eb97",
   "metadata": {},
   "source": [
    "## Download and save market data for each ticker"
   ]
  },
  {
   "cell_type": "markdown",
   "id": "b72df288-c99a-4661-8f7d-9aaf2f7d26a0",
   "metadata": {},
   "source": [
    "Now, for each ticker we download price history and save to local directory ```priceVolData`` as a **.csv** file named as ticker.\n",
    "\n",
    "**download_and_save_prices(tickers)** accepts list of tickers to be downloaded."
   ]
  },
  {
   "cell_type": "markdown",
   "id": "9afb59a5-57c1-4fef-85b4-e95dd8234e22",
   "metadata": {},
   "source": [
    "Due to errors, delisted tickers or network problems, some tickers may not be downloaded. List of these tickers is returned by the method"
   ]
  },
  {
   "cell_type": "code",
   "execution_count": 9,
   "id": "ade506c8-0c84-40c9-b800-95c1256c751b",
   "metadata": {},
   "outputs": [
    {
     "name": "stderr",
     "output_type": "stream",
     "text": [
      "100%|███████████████████████████████████████████████████████████████████████████████████████████████████████████████████████████████████████████████████████| 505/505 [10:34<00:00,  1.26s/it]\n"
     ]
    }
   ],
   "source": [
    "failed_tickers_snp500 = dataloader.download_and_save_price_history(snp500_tickers_df['ticker'].to_list())"
   ]
  },
  {
   "cell_type": "code",
   "execution_count": 10,
   "id": "b6badbd8-a9ef-40fb-a563-0fcd2a46382e",
   "metadata": {},
   "outputs": [
    {
     "data": {
      "text/plain": [
       "0"
      ]
     },
     "execution_count": 10,
     "metadata": {},
     "output_type": "execute_result"
    }
   ],
   "source": [
    "len(failed_tickers_snp500)"
   ]
  },
  {
   "cell_type": "markdown",
   "id": "ef360ccc-2dc3-4a60-920c-2454880344ae",
   "metadata": {},
   "source": [
    "### NYSE listed tickers"
   ]
  },
  {
   "cell_type": "code",
   "execution_count": 15,
   "id": "8cbbdaa5",
   "metadata": {
    "pycharm": {
     "name": "#%%\n"
    }
   },
   "outputs": [],
   "source": [
    "nyse_tickers_df = pd.read_csv('info/nyse-listed.csv',index_col='index')"
   ]
  },
  {
   "cell_type": "code",
   "execution_count": 16,
   "id": "74d17625",
   "metadata": {
    "pycharm": {
     "name": "#%%\n"
    }
   },
   "outputs": [
    {
     "name": "stderr",
     "output_type": "stream",
     "text": [
      "100%|███████████████████████████████████████████████████████████████████████████████████████████████████████████████████████████████████████████████████████| 100/100 [00:45<00:00,  2.21it/s]\n"
     ]
    }
   ],
   "source": [
    "failed_tickers_nyse = dataloader.download_and_save_price_history(nyse_tickers_df['ticker'].to_list())"
   ]
  },
  {
   "cell_type": "markdown",
   "id": "a3446640-e94f-478f-9e95-597c64a569d9",
   "metadata": {},
   "source": [
    "If download stopped for some reason (e.g. at number 101), you can continue by adding ```.to_list()[101:]``` to the end.to_list()"
   ]
  },
  {
   "cell_type": "code",
   "execution_count": 44,
   "id": "51cd8f72-10c1-4c37-8f19-7da3fbd7d357",
   "metadata": {
    "pycharm": {
     "name": "#%%\n"
    }
   },
   "outputs": [
    {
     "name": "stderr",
     "output_type": "stream",
     "text": [
      "0it [00:00, ?it/s]\n"
     ]
    }
   ],
   "source": [
    "failed_tickers_nyse = dataloader.download_and_save_price_history(nyse_tickers_df['ticker'].to_list()[2400:2800])"
   ]
  },
  {
   "cell_type": "markdown",
   "id": "8b1b6c81-1de5-443e-92a1-d120a1f12dfd",
   "metadata": {},
   "source": [
    "There are may actually be many tickers for which download has failed"
   ]
  },
  {
   "cell_type": "code",
   "execution_count": 45,
   "id": "93e95cae",
   "metadata": {
    "pycharm": {
     "name": "#%%\n"
    }
   },
   "outputs": [
    {
     "data": {
      "text/plain": [
       "0"
      ]
     },
     "execution_count": 45,
     "metadata": {},
     "output_type": "execute_result"
    }
   ],
   "source": [
    "len(failed_tickers_nyse)"
   ]
  },
  {
   "cell_type": "markdown",
   "id": "6303d061-1db8-4872-b42d-a0e9e8eef77e",
   "metadata": {},
   "source": [
    "### NASDAQ"
   ]
  },
  {
   "cell_type": "code",
   "execution_count": 52,
   "id": "4b6735ab-f8ca-4316-881e-0ad849fd2f22",
   "metadata": {},
   "outputs": [],
   "source": [
    "nasdaq_tickers_df = pd.read_csv('info/nasdaq-listed.csv',index_col='index')"
   ]
  },
  {
   "cell_type": "code",
   "execution_count": 63,
   "id": "7cf7e967",
   "metadata": {
    "pycharm": {
     "name": "#%%\n"
    }
   },
   "outputs": [
    {
     "name": "stderr",
     "output_type": "stream",
     "text": [
      "0it [00:00, ?it/s]\n"
     ]
    }
   ],
   "source": [
    "err_tickers_nsdq = dataloader.download_and_save_price_history(nasdaq_tickers_df['ticker'].to_list()[6001:7000])"
   ]
  },
  {
   "cell_type": "code",
   "execution_count": 64,
   "id": "e1992a8d",
   "metadata": {
    "pycharm": {
     "name": "#%%\n"
    }
   },
   "outputs": [
    {
     "data": {
      "text/plain": [
       "0"
      ]
     },
     "execution_count": 64,
     "metadata": {},
     "output_type": "execute_result"
    }
   ],
   "source": [
    "len(err_tickers_nsdq)"
   ]
  },
  {
   "cell_type": "code",
   "execution_count": null,
   "id": "fe9b3db7-783c-4654-be03-6c6777405afc",
   "metadata": {},
   "outputs": [],
   "source": []
  }
 ],
 "metadata": {
  "kernelspec": {
   "display_name": "Python 3 (ipykernel)",
   "language": "python",
   "name": "python3"
  },
  "language_info": {
   "codemirror_mode": {
    "name": "ipython",
    "version": 3
   },
   "file_extension": ".py",
   "mimetype": "text/x-python",
   "name": "python",
   "nbconvert_exporter": "python",
   "pygments_lexer": "ipython3",
   "version": "3.9.8"
  }
 },
 "nbformat": 4,
 "nbformat_minor": 5
}
