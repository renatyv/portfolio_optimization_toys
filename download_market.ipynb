{
 "cells": [
  {
   "cell_type": "markdown",
   "id": "5e0116cc-332d-4edc-9eac-e29a1f79605d",
   "metadata": {},
   "source": []
  },
  {
   "cell_type": "code",
   "execution_count": 8,
   "id": "9bcacb23-8cc9-4b9d-8106-b538d747b6a0",
   "metadata": {},
   "outputs": [],
   "source": [
    "import datetime\n",
    "import yahoo_fin.stock_info as yfsi\n",
    "import pypoanal.dataloader as dataloader\n",
    "import yfinance as yf\n",
    "import matplotlib.pyplot as plt\n",
    "import pandas as pd\n",
    "import numpy as np\n",
    "from multiprocessing import Pool\n",
    "import importlib"
   ]
  },
  {
   "cell_type": "markdown",
   "source": [
    "## Load tickers"
   ],
   "metadata": {
    "collapsed": false,
    "pycharm": {
     "name": "#%% md\n"
    }
   }
  },
  {
   "cell_type": "code",
   "execution_count": 2,
   "outputs": [],
   "source": [
    "nyse_tickers_df = pd.read_csv('data/nyse-listed.csv',index_col='indx')"
   ],
   "metadata": {
    "collapsed": false,
    "pycharm": {
     "name": "#%%\n"
    }
   }
  },
  {
   "cell_type": "code",
   "execution_count": 3,
   "outputs": [
    {
     "data": {
      "text/plain": "     ticker quoteType     marketCap  sharesOutstanding exchange  bookValue  \\\nindx                                                                         \n0         A    EQUITY  4.383544e+10        302000992.0      NYQ     17.832   \n1        AA    EQUITY  1.166961e+10        187103008.0      NYQ     20.727   \n2       AAC    EQUITY  1.221250e+09        100000000.0      NYQ     -0.515   \n3       AAN    EQUITY  7.474111e+08         31483200.0      NYQ     22.714   \n4       AAP    EQUITY  1.484615e+10         62355200.0      NYQ     51.663   \n\n                          longName                      shortName  trailingPE  \\\nindx                                                                            \n0       Agilent Technologies, Inc.     Agilent Technologies, Inc.   36.840100   \n1                Alcoa Corporation              Alcoa Corporation   14.427481   \n2     Ares Acquisition Corporation   Ares Acquisition Corporation   43.616074   \n3        The Aaron's Company, Inc.  Aarons Holdings Company, Inc.    8.400566   \n4         Advance Auto Parts, Inc.        Advance Auto Parts Inc.   24.247887   \n\n      trailingAnnualDividendYield  \nindx                               \n0                        0.005204  \n1                        0.006159  \n2                             NaN  \n3                        0.012285  \n4                        0.010346  ",
      "text/html": "<div>\n<style scoped>\n    .dataframe tbody tr th:only-of-type {\n        vertical-align: middle;\n    }\n\n    .dataframe tbody tr th {\n        vertical-align: top;\n    }\n\n    .dataframe thead th {\n        text-align: right;\n    }\n</style>\n<table border=\"1\" class=\"dataframe\">\n  <thead>\n    <tr style=\"text-align: right;\">\n      <th></th>\n      <th>ticker</th>\n      <th>quoteType</th>\n      <th>marketCap</th>\n      <th>sharesOutstanding</th>\n      <th>exchange</th>\n      <th>bookValue</th>\n      <th>longName</th>\n      <th>shortName</th>\n      <th>trailingPE</th>\n      <th>trailingAnnualDividendYield</th>\n    </tr>\n    <tr>\n      <th>indx</th>\n      <th></th>\n      <th></th>\n      <th></th>\n      <th></th>\n      <th></th>\n      <th></th>\n      <th></th>\n      <th></th>\n      <th></th>\n      <th></th>\n    </tr>\n  </thead>\n  <tbody>\n    <tr>\n      <th>0</th>\n      <td>A</td>\n      <td>EQUITY</td>\n      <td>4.383544e+10</td>\n      <td>302000992.0</td>\n      <td>NYQ</td>\n      <td>17.832</td>\n      <td>Agilent Technologies, Inc.</td>\n      <td>Agilent Technologies, Inc.</td>\n      <td>36.840100</td>\n      <td>0.005204</td>\n    </tr>\n    <tr>\n      <th>1</th>\n      <td>AA</td>\n      <td>EQUITY</td>\n      <td>1.166961e+10</td>\n      <td>187103008.0</td>\n      <td>NYQ</td>\n      <td>20.727</td>\n      <td>Alcoa Corporation</td>\n      <td>Alcoa Corporation</td>\n      <td>14.427481</td>\n      <td>0.006159</td>\n    </tr>\n    <tr>\n      <th>2</th>\n      <td>AAC</td>\n      <td>EQUITY</td>\n      <td>1.221250e+09</td>\n      <td>100000000.0</td>\n      <td>NYQ</td>\n      <td>-0.515</td>\n      <td>Ares Acquisition Corporation</td>\n      <td>Ares Acquisition Corporation</td>\n      <td>43.616074</td>\n      <td>NaN</td>\n    </tr>\n    <tr>\n      <th>3</th>\n      <td>AAN</td>\n      <td>EQUITY</td>\n      <td>7.474111e+08</td>\n      <td>31483200.0</td>\n      <td>NYQ</td>\n      <td>22.714</td>\n      <td>The Aaron's Company, Inc.</td>\n      <td>Aarons Holdings Company, Inc.</td>\n      <td>8.400566</td>\n      <td>0.012285</td>\n    </tr>\n    <tr>\n      <th>4</th>\n      <td>AAP</td>\n      <td>EQUITY</td>\n      <td>1.484615e+10</td>\n      <td>62355200.0</td>\n      <td>NYQ</td>\n      <td>51.663</td>\n      <td>Advance Auto Parts, Inc.</td>\n      <td>Advance Auto Parts Inc.</td>\n      <td>24.247887</td>\n      <td>0.010346</td>\n    </tr>\n  </tbody>\n</table>\n</div>"
     },
     "execution_count": 3,
     "metadata": {},
     "output_type": "execute_result"
    }
   ],
   "source": [
    "nyse_tickers_df.head()"
   ],
   "metadata": {
    "collapsed": false,
    "pycharm": {
     "name": "#%%\n"
    }
   }
  },
  {
   "cell_type": "code",
   "execution_count": 4,
   "outputs": [],
   "source": [
    "nasdaq_tickers_df = pd.read_csv('data/nasdaq-listed.csv',index_col='indx')"
   ],
   "metadata": {
    "collapsed": false,
    "pycharm": {
     "name": "#%%\n"
    }
   }
  },
  {
   "cell_type": "code",
   "execution_count": 5,
   "outputs": [],
   "source": [
    "snp500_tickers_df = pd.read_csv('data/snp500-listed.csv',index_col='indx')"
   ],
   "metadata": {
    "collapsed": false,
    "pycharm": {
     "name": "#%%\n"
    }
   }
  },
  {
   "cell_type": "markdown",
   "id": "bd103169-f6c7-4573-bdf4-26d6c046eb97",
   "metadata": {},
   "source": [
    "## Download and save market data for each ticker"
   ]
  },
  {
   "cell_type": "code",
   "execution_count": 20,
   "outputs": [
    {
     "data": {
      "text/plain": "<module 'pypoanal.dataloader' from '/Users/renatyv/Dropbox/finance/my_finance/python/pypoanal/dataloader.py'>"
     },
     "execution_count": 20,
     "metadata": {},
     "output_type": "execute_result"
    }
   ],
   "source": [
    "importlib.reload(dataloader)"
   ],
   "metadata": {
    "collapsed": false,
    "pycharm": {
     "name": "#%%\n"
    }
   }
  },
  {
   "cell_type": "code",
   "execution_count": 16,
   "id": "ade506c8-0c84-40c9-b800-95c1256c751b",
   "metadata": {},
   "outputs": [
    {
     "name": "stderr",
     "output_type": "stream",
     "text": [
      " 25%|██▌       | 128/505 [01:40<04:54,  1.28it/s]\n"
     ]
    },
    {
     "ename": "KeyboardInterrupt",
     "evalue": "",
     "output_type": "error",
     "traceback": [
      "\u001B[0;31m---------------------------------------------------------------------------\u001B[0m",
      "\u001B[0;31mKeyboardInterrupt\u001B[0m                         Traceback (most recent call last)",
      "\u001B[0;32m/var/folders/t7/3_66177j5p30wqf4lxtblnx80000gn/T/ipykernel_984/996955547.py\u001B[0m in \u001B[0;36m<module>\u001B[0;34m\u001B[0m\n\u001B[0;32m----> 1\u001B[0;31m \u001B[0mdataloader\u001B[0m\u001B[0;34m.\u001B[0m\u001B[0mdownload_and_save_prices\u001B[0m\u001B[0;34m(\u001B[0m\u001B[0msnp500_tickers_df\u001B[0m\u001B[0;34m[\u001B[0m\u001B[0;34m'ticker'\u001B[0m\u001B[0;34m]\u001B[0m\u001B[0;34m.\u001B[0m\u001B[0mto_list\u001B[0m\u001B[0;34m(\u001B[0m\u001B[0;34m)\u001B[0m\u001B[0;34m)\u001B[0m\u001B[0;34m\u001B[0m\u001B[0;34m\u001B[0m\u001B[0m\n\u001B[0m",
      "\u001B[0;32m~/Dropbox/finance/my_finance/python/pypoanal/dataloader.py\u001B[0m in \u001B[0;36mdownload_and_save_prices\u001B[0;34m(tickers)\u001B[0m\n\u001B[1;32m     47\u001B[0m     \u001B[0mfailed_download\u001B[0m \u001B[0;34m=\u001B[0m \u001B[0;34m[\u001B[0m\u001B[0;34m]\u001B[0m\u001B[0;34m\u001B[0m\u001B[0;34m\u001B[0m\u001B[0m\n\u001B[1;32m     48\u001B[0m     \u001B[0;32mfor\u001B[0m \u001B[0mticker\u001B[0m \u001B[0;32min\u001B[0m \u001B[0mtqdm\u001B[0m\u001B[0;34m.\u001B[0m\u001B[0mtqdm\u001B[0m\u001B[0;34m(\u001B[0m\u001B[0mtickers\u001B[0m\u001B[0;34m)\u001B[0m\u001B[0;34m:\u001B[0m\u001B[0;34m\u001B[0m\u001B[0;34m\u001B[0m\u001B[0m\n\u001B[0;32m---> 49\u001B[0;31m         \u001B[0mprice_and_volume_df\u001B[0m \u001B[0;34m=\u001B[0m \u001B[0mdownload_price_vol\u001B[0m\u001B[0;34m(\u001B[0m\u001B[0mticker\u001B[0m\u001B[0;34m,\u001B[0m \u001B[0mshow_errors\u001B[0m\u001B[0;34m=\u001B[0m\u001B[0;32mFalse\u001B[0m\u001B[0;34m)\u001B[0m\u001B[0;34m\u001B[0m\u001B[0;34m\u001B[0m\u001B[0m\n\u001B[0m\u001B[1;32m     50\u001B[0m         \u001B[0;32mif\u001B[0m \u001B[0mlen\u001B[0m\u001B[0;34m(\u001B[0m\u001B[0mprice_and_volume_df\u001B[0m\u001B[0;34m)\u001B[0m \u001B[0;34m>\u001B[0m \u001B[0;36m0\u001B[0m\u001B[0;34m:\u001B[0m\u001B[0;34m\u001B[0m\u001B[0;34m\u001B[0m\u001B[0m\n\u001B[1;32m     51\u001B[0m             \u001B[0mprice_and_volume_df\u001B[0m\u001B[0;34m.\u001B[0m\u001B[0mto_csv\u001B[0m\u001B[0;34m(\u001B[0m\u001B[0mprice_vol_path\u001B[0m\u001B[0;34m(\u001B[0m\u001B[0mticker\u001B[0m\u001B[0;34m)\u001B[0m\u001B[0;34m)\u001B[0m\u001B[0;34m\u001B[0m\u001B[0;34m\u001B[0m\u001B[0m\n",
      "\u001B[0;32m~/Dropbox/finance/my_finance/python/pypoanal/dataloader.py\u001B[0m in \u001B[0;36mdownload_price_vol\u001B[0;34m(ticker, show_errors)\u001B[0m\n\u001B[1;32m     35\u001B[0m     \u001B[0madjusted\u001B[0m \u001B[0mprice\u001B[0m\u001B[0;34m,\u001B[0m \u001B[0mvolume\u001B[0m\u001B[0;34m\u001B[0m\u001B[0;34m\u001B[0m\u001B[0m\n\u001B[1;32m     36\u001B[0m     \"\"\"\n\u001B[0;32m---> 37\u001B[0;31m     \u001B[0mprice_vol\u001B[0m \u001B[0;34m=\u001B[0m \u001B[0myf\u001B[0m\u001B[0;34m.\u001B[0m\u001B[0mdownload\u001B[0m\u001B[0;34m(\u001B[0m\u001B[0;34m[\u001B[0m\u001B[0mticker\u001B[0m\u001B[0;34m]\u001B[0m\u001B[0;34m,\u001B[0m \u001B[0mperiod\u001B[0m\u001B[0;34m=\u001B[0m\u001B[0;34m\"max\"\u001B[0m\u001B[0;34m,\u001B[0m \u001B[0mprogress\u001B[0m\u001B[0;34m=\u001B[0m\u001B[0;32mFalse\u001B[0m\u001B[0;34m,\u001B[0m \u001B[0mshow_errors\u001B[0m\u001B[0;34m=\u001B[0m\u001B[0mshow_errors\u001B[0m\u001B[0;34m)\u001B[0m\u001B[0;34m\u001B[0m\u001B[0;34m\u001B[0m\u001B[0m\n\u001B[0m\u001B[1;32m     38\u001B[0m     \u001B[0mprice_vol\u001B[0m\u001B[0;34m.\u001B[0m\u001B[0mdrop\u001B[0m\u001B[0;34m(\u001B[0m\u001B[0;34m[\u001B[0m\u001B[0;34m\"Close\"\u001B[0m\u001B[0;34m,\u001B[0m \u001B[0;34m\"Open\"\u001B[0m\u001B[0;34m,\u001B[0m \u001B[0;34m\"Low\"\u001B[0m\u001B[0;34m,\u001B[0m \u001B[0;34m\"High\"\u001B[0m\u001B[0;34m]\u001B[0m\u001B[0;34m,\u001B[0m \u001B[0maxis\u001B[0m\u001B[0;34m=\u001B[0m\u001B[0;36m1\u001B[0m\u001B[0;34m,\u001B[0m \u001B[0minplace\u001B[0m\u001B[0;34m=\u001B[0m\u001B[0;32mTrue\u001B[0m\u001B[0;34m)\u001B[0m\u001B[0;34m\u001B[0m\u001B[0;34m\u001B[0m\u001B[0m\n\u001B[1;32m     39\u001B[0m     \u001B[0mprice_vol\u001B[0m\u001B[0;34m.\u001B[0m\u001B[0mdropna\u001B[0m\u001B[0;34m(\u001B[0m\u001B[0mhow\u001B[0m\u001B[0;34m=\u001B[0m\u001B[0;34m\"all\"\u001B[0m\u001B[0;34m,\u001B[0m \u001B[0minplace\u001B[0m\u001B[0;34m=\u001B[0m\u001B[0;32mTrue\u001B[0m\u001B[0;34m)\u001B[0m\u001B[0;34m\u001B[0m\u001B[0;34m\u001B[0m\u001B[0m\n",
      "\u001B[0;32m~/Dropbox/finance/my_finance/python/venv/lib/python3.9/site-packages/yfinance/multi.py\u001B[0m in \u001B[0;36mdownload\u001B[0;34m(tickers, start, end, actions, threads, group_by, auto_adjust, back_adjust, progress, period, show_errors, interval, prepost, proxy, rounding, timeout, **kwargs)\u001B[0m\n\u001B[1;32m    110\u001B[0m                                    rounding=rounding, timeout=timeout)\n\u001B[1;32m    111\u001B[0m         \u001B[0;32mwhile\u001B[0m \u001B[0mlen\u001B[0m\u001B[0;34m(\u001B[0m\u001B[0mshared\u001B[0m\u001B[0;34m.\u001B[0m\u001B[0m_DFS\u001B[0m\u001B[0;34m)\u001B[0m \u001B[0;34m<\u001B[0m \u001B[0mlen\u001B[0m\u001B[0;34m(\u001B[0m\u001B[0mtickers\u001B[0m\u001B[0;34m)\u001B[0m\u001B[0;34m:\u001B[0m\u001B[0;34m\u001B[0m\u001B[0;34m\u001B[0m\u001B[0m\n\u001B[0;32m--> 112\u001B[0;31m             \u001B[0m_time\u001B[0m\u001B[0;34m.\u001B[0m\u001B[0msleep\u001B[0m\u001B[0;34m(\u001B[0m\u001B[0;36m0.01\u001B[0m\u001B[0;34m)\u001B[0m\u001B[0;34m\u001B[0m\u001B[0;34m\u001B[0m\u001B[0m\n\u001B[0m\u001B[1;32m    113\u001B[0m \u001B[0;34m\u001B[0m\u001B[0m\n\u001B[1;32m    114\u001B[0m     \u001B[0;31m# download synchronously\u001B[0m\u001B[0;34m\u001B[0m\u001B[0;34m\u001B[0m\u001B[0m\n",
      "\u001B[0;31mKeyboardInterrupt\u001B[0m: "
     ]
    }
   ],
   "source": [
    "dataloader.download_and_save_prices(snp500_tickers_df['ticker'].to_list())"
   ]
  },
  {
   "cell_type": "code",
   "execution_count": 22,
   "outputs": [
    {
     "name": "stderr",
     "output_type": "stream",
     "text": [
      "  8%|▊         | 143/1812 [02:33<5:50:54, 12.62s/it]"
     ]
    },
    {
     "name": "stdout",
     "output_type": "stream",
     "text": [
      "local variable 'data' referenced before assignment\n"
     ]
    },
    {
     "name": "stderr",
     "output_type": "stream",
     "text": [
      "100%|██████████| 1812/1812 [31:51<00:00,  1.06s/it] \n"
     ]
    }
   ],
   "source": [
    "err_tickers = dataloader.download_and_save_prices(nyse_tickers_df['ticker'].to_list()[975:])"
   ],
   "metadata": {
    "collapsed": false,
    "pycharm": {
     "name": "#%%\n"
    }
   }
  },
  {
   "cell_type": "code",
   "execution_count": 23,
   "outputs": [
    {
     "data": {
      "text/plain": "556"
     },
     "execution_count": 23,
     "metadata": {},
     "output_type": "execute_result"
    }
   ],
   "source": [
    "len(err_tickers)"
   ],
   "metadata": {
    "collapsed": false,
    "pycharm": {
     "name": "#%%\n"
    }
   }
  },
  {
   "cell_type": "code",
   "execution_count": 24,
   "outputs": [
    {
     "name": "stderr",
     "output_type": "stream",
     "text": [
      "100%|██████████| 5447/5447 [1:39:30<00:00,  1.10s/it]  \n"
     ]
    }
   ],
   "source": [
    "err_tickers_nsdq = dataloader.download_and_save_prices(nasdaq_tickers_df['ticker'].to_list())"
   ],
   "metadata": {
    "collapsed": false,
    "pycharm": {
     "name": "#%%\n"
    }
   }
  },
  {
   "cell_type": "code",
   "execution_count": 25,
   "outputs": [
    {
     "data": {
      "text/plain": "35"
     },
     "execution_count": 25,
     "metadata": {},
     "output_type": "execute_result"
    }
   ],
   "source": [
    "len(err_tickers_nsdq)"
   ],
   "metadata": {
    "collapsed": false,
    "pycharm": {
     "name": "#%%\n"
    }
   }
  },
  {
   "cell_type": "code",
   "execution_count": null,
   "outputs": [],
   "source": [],
   "metadata": {
    "collapsed": false,
    "pycharm": {
     "name": "#%%\n"
    }
   }
  }
 ],
 "metadata": {
  "kernelspec": {
   "display_name": "Python 3 (ipykernel)",
   "language": "python",
   "name": "python3"
  },
  "language_info": {
   "codemirror_mode": {
    "name": "ipython",
    "version": 3
   },
   "file_extension": ".py",
   "mimetype": "text/x-python",
   "name": "python",
   "nbconvert_exporter": "python",
   "pygments_lexer": "ipython3",
   "version": "3.9.8"
  }
 },
 "nbformat": 4,
 "nbformat_minor": 5
}