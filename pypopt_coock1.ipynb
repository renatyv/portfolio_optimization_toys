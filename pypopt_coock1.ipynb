{
 "cells": [
  {
   "cell_type": "markdown",
   "metadata": {},
   "source": [
    "# Mean-variance optimization\n",
    "\n",
    "In this cookbook recipe, we work on several examples demonstrating PyPortfolioOpt's mean-variance capabilities. I will discuss what I think should be your \"default\" options, based on my experience in optimising portfolios.\n",
    "\n",
    "To start, you need a list of tickers. Some people just provide the whole universe of stocks, but I don't think this is a good idea - portfolio optimization is quite different from asset selection. I would suggest anywhere from 10-50 stocks as a starting point.\n",
    "\n",
    "Some of the things we cover:\n",
    "\n",
    "- Downloading data and getting it into PyPortfolioOpt\n",
    "- Calculating and visualising the covariance matrix\n",
    "- Optimising a long/short portfolio to minimise total variance\n",
    "- Optimising a portfolio to maximise the Sharpe ratio, subject to sector constraints\n",
    "- Optimising a portfolio to maximise return for a given risk, subject to sector constraints, with an L2 regularisation objective\n",
    "- Optimising a market-neutral portfolio to minimise risk for a given level of return\n",
    "- Optimising along the mean-semivariance frontier\n",
    "- Optimising along the mean-CVaR frontier\n",
    "- Plotting the efficient frontier:\n",
    "    - Simple (using CLA)\n",
    "    - Constrained\n",
    "    - Complex plots\n",
    "\n",
    "Please consult the [docs](https://pyportfolioopt.readthedocs.io/) for more info.\n",
    "\n",
    "## Downloading data\n",
    "\n",
    "To download data, we will use `yfinance`, an excellent library that provides free price data from Yahoo Finance, no API key needed."
   ]
  },
  {
   "cell_type": "code",
   "execution_count": 80,
   "metadata": {},
   "outputs": [],
   "source": [
    "import yfinance as yf\n",
    "import datetime\n",
    "import matplotlib.pyplot as plt\n",
    "import pandas as pd\n",
    "import numpy as np"
   ]
  },
  {
   "cell_type": "code",
   "execution_count": 81,
   "metadata": {},
   "outputs": [],
   "source": [
    "tickers = [\"MSFT\", \"AMZN\", \"KO\", \"MA\", \"COST\", \n",
    "           \"LUV\", \"XOM\", \"PFE\", \"JPM\", \"UNH\", \n",
    "           \"ACN\", \"DIS\", \"GILD\", \"F\", \"TSLA\",\"VTI\"] "
   ]
  },
  {
   "cell_type": "code",
   "execution_count": 82,
   "metadata": {},
   "outputs": [
    {
     "name": "stdout",
     "output_type": "stream",
     "text": [
      "[*********************100%***********************]  16 of 16 completed\n"
     ]
    }
   ],
   "source": [
    "ohlc = yf.download(tickers, period=\"max\")"
   ]
  },
  {
   "cell_type": "code",
   "execution_count": 86,
   "metadata": {},
   "outputs": [
    {
     "data": {
      "text/html": [
       "<div>\n",
       "<style scoped>\n",
       "    .dataframe tbody tr th:only-of-type {\n",
       "        vertical-align: middle;\n",
       "    }\n",
       "\n",
       "    .dataframe tbody tr th {\n",
       "        vertical-align: top;\n",
       "    }\n",
       "\n",
       "    .dataframe thead th {\n",
       "        text-align: right;\n",
       "    }\n",
       "</style>\n",
       "<table border=\"1\" class=\"dataframe\">\n",
       "  <thead>\n",
       "    <tr style=\"text-align: right;\">\n",
       "      <th></th>\n",
       "      <th>ACN</th>\n",
       "      <th>AMZN</th>\n",
       "      <th>COST</th>\n",
       "      <th>DIS</th>\n",
       "      <th>F</th>\n",
       "      <th>GILD</th>\n",
       "      <th>JPM</th>\n",
       "      <th>KO</th>\n",
       "      <th>LUV</th>\n",
       "      <th>MA</th>\n",
       "      <th>MSFT</th>\n",
       "      <th>PFE</th>\n",
       "      <th>TSLA</th>\n",
       "      <th>UNH</th>\n",
       "      <th>VTI</th>\n",
       "      <th>XOM</th>\n",
       "    </tr>\n",
       "    <tr>\n",
       "      <th>Date</th>\n",
       "      <th></th>\n",
       "      <th></th>\n",
       "      <th></th>\n",
       "      <th></th>\n",
       "      <th></th>\n",
       "      <th></th>\n",
       "      <th></th>\n",
       "      <th></th>\n",
       "      <th></th>\n",
       "      <th></th>\n",
       "      <th></th>\n",
       "      <th></th>\n",
       "      <th></th>\n",
       "      <th></th>\n",
       "      <th></th>\n",
       "      <th></th>\n",
       "    </tr>\n",
       "  </thead>\n",
       "  <tbody>\n",
       "    <tr>\n",
       "      <th>1962-01-02</th>\n",
       "      <td>NaN</td>\n",
       "      <td>NaN</td>\n",
       "      <td>NaN</td>\n",
       "      <td>0.058398</td>\n",
       "      <td>NaN</td>\n",
       "      <td>NaN</td>\n",
       "      <td>NaN</td>\n",
       "      <td>0.051133</td>\n",
       "      <td>NaN</td>\n",
       "      <td>NaN</td>\n",
       "      <td>NaN</td>\n",
       "      <td>NaN</td>\n",
       "      <td>NaN</td>\n",
       "      <td>NaN</td>\n",
       "      <td>NaN</td>\n",
       "      <td>0.102984</td>\n",
       "    </tr>\n",
       "    <tr>\n",
       "      <th>1962-01-03</th>\n",
       "      <td>NaN</td>\n",
       "      <td>NaN</td>\n",
       "      <td>NaN</td>\n",
       "      <td>0.059182</td>\n",
       "      <td>NaN</td>\n",
       "      <td>NaN</td>\n",
       "      <td>NaN</td>\n",
       "      <td>0.049994</td>\n",
       "      <td>NaN</td>\n",
       "      <td>NaN</td>\n",
       "      <td>NaN</td>\n",
       "      <td>NaN</td>\n",
       "      <td>NaN</td>\n",
       "      <td>NaN</td>\n",
       "      <td>NaN</td>\n",
       "      <td>0.104513</td>\n",
       "    </tr>\n",
       "    <tr>\n",
       "      <th>1962-01-04</th>\n",
       "      <td>NaN</td>\n",
       "      <td>NaN</td>\n",
       "      <td>NaN</td>\n",
       "      <td>0.059182</td>\n",
       "      <td>NaN</td>\n",
       "      <td>NaN</td>\n",
       "      <td>NaN</td>\n",
       "      <td>0.050374</td>\n",
       "      <td>NaN</td>\n",
       "      <td>NaN</td>\n",
       "      <td>NaN</td>\n",
       "      <td>NaN</td>\n",
       "      <td>NaN</td>\n",
       "      <td>NaN</td>\n",
       "      <td>NaN</td>\n",
       "      <td>0.104768</td>\n",
       "    </tr>\n",
       "    <tr>\n",
       "      <th>1962-01-05</th>\n",
       "      <td>NaN</td>\n",
       "      <td>NaN</td>\n",
       "      <td>NaN</td>\n",
       "      <td>0.059378</td>\n",
       "      <td>NaN</td>\n",
       "      <td>NaN</td>\n",
       "      <td>NaN</td>\n",
       "      <td>0.049234</td>\n",
       "      <td>NaN</td>\n",
       "      <td>NaN</td>\n",
       "      <td>NaN</td>\n",
       "      <td>NaN</td>\n",
       "      <td>NaN</td>\n",
       "      <td>NaN</td>\n",
       "      <td>NaN</td>\n",
       "      <td>0.102474</td>\n",
       "    </tr>\n",
       "    <tr>\n",
       "      <th>1962-01-08</th>\n",
       "      <td>NaN</td>\n",
       "      <td>NaN</td>\n",
       "      <td>NaN</td>\n",
       "      <td>0.059182</td>\n",
       "      <td>NaN</td>\n",
       "      <td>NaN</td>\n",
       "      <td>NaN</td>\n",
       "      <td>0.048728</td>\n",
       "      <td>NaN</td>\n",
       "      <td>NaN</td>\n",
       "      <td>NaN</td>\n",
       "      <td>NaN</td>\n",
       "      <td>NaN</td>\n",
       "      <td>NaN</td>\n",
       "      <td>NaN</td>\n",
       "      <td>0.102219</td>\n",
       "    </tr>\n",
       "  </tbody>\n",
       "</table>\n",
       "</div>"
      ],
      "text/plain": [
       "            ACN  AMZN  COST       DIS   F  GILD  JPM        KO  LUV  MA  MSFT  \\\n",
       "Date                                                                            \n",
       "1962-01-02  NaN   NaN   NaN  0.058398 NaN   NaN  NaN  0.051133  NaN NaN   NaN   \n",
       "1962-01-03  NaN   NaN   NaN  0.059182 NaN   NaN  NaN  0.049994  NaN NaN   NaN   \n",
       "1962-01-04  NaN   NaN   NaN  0.059182 NaN   NaN  NaN  0.050374  NaN NaN   NaN   \n",
       "1962-01-05  NaN   NaN   NaN  0.059378 NaN   NaN  NaN  0.049234  NaN NaN   NaN   \n",
       "1962-01-08  NaN   NaN   NaN  0.059182 NaN   NaN  NaN  0.048728  NaN NaN   NaN   \n",
       "\n",
       "            PFE  TSLA  UNH  VTI       XOM  \n",
       "Date                                       \n",
       "1962-01-02  NaN   NaN  NaN  NaN  0.102984  \n",
       "1962-01-03  NaN   NaN  NaN  NaN  0.104513  \n",
       "1962-01-04  NaN   NaN  NaN  NaN  0.104768  \n",
       "1962-01-05  NaN   NaN  NaN  NaN  0.102474  \n",
       "1962-01-08  NaN   NaN  NaN  NaN  0.102219  "
      ]
     },
     "execution_count": 86,
     "metadata": {},
     "output_type": "execute_result"
    }
   ],
   "source": [
    "prices = ohlc[\"Adj Close\"].dropna(how=\"all\")\n",
    "prices.head()"
   ]
  },
  {
   "cell_type": "code",
   "execution_count": 85,
   "metadata": {},
   "outputs": [
    {
     "data": {
      "image/png": "[encoded data removed]",
      "text/plain": [
       "<Figure size 1080x720 with 1 Axes>"
      ]
     },
     "metadata": {
      "needs_background": "light"
     },
     "output_type": "display_data"
    }
   ],
   "source": [
    "prices.plot(figsize=(15,10));"
   ]
  },
  {
   "cell_type": "markdown",
   "metadata": {},
   "source": [
    "## Calculating the covariance matrix"
   ]
  },
  {
   "cell_type": "code",
   "execution_count": 6,
   "metadata": {},
   "outputs": [
    {
     "data": {
      "text/plain": [
       "'1.5.1'"
      ]
     },
     "execution_count": 6,
     "metadata": {},
     "output_type": "execute_result"
    }
   ],
   "source": [
    "import pypfopt\n",
    "pypfopt.__version__"
   ]
  },
  {
   "cell_type": "code",
   "execution_count": 7,
   "metadata": {},
   "outputs": [
    {
     "data": {
      "text/html": [
       "<div>\n",
       "<style scoped>\n",
       "    .dataframe tbody tr th:only-of-type {\n",
       "        vertical-align: middle;\n",
       "    }\n",
       "\n",
       "    .dataframe tbody tr th {\n",
       "        vertical-align: top;\n",
       "    }\n",
       "\n",
       "    .dataframe thead th {\n",
       "        text-align: right;\n",
       "    }\n",
       "</style>\n",
       "<table border=\"1\" class=\"dataframe\">\n",
       "  <thead>\n",
       "    <tr style=\"text-align: right;\">\n",
       "      <th></th>\n",
       "      <th>ACN</th>\n",
       "      <th>AMZN</th>\n",
       "      <th>COST</th>\n",
       "      <th>DIS</th>\n",
       "      <th>F</th>\n",
       "      <th>GILD</th>\n",
       "      <th>JPM</th>\n",
       "      <th>KO</th>\n",
       "      <th>LUV</th>\n",
       "      <th>MA</th>\n",
       "      <th>MSFT</th>\n",
       "      <th>PFE</th>\n",
       "      <th>TSLA</th>\n",
       "      <th>UNH</th>\n",
       "      <th>VTI</th>\n",
       "      <th>XOM</th>\n",
       "    </tr>\n",
       "  </thead>\n",
       "  <tbody>\n",
       "    <tr>\n",
       "      <th>ACN</th>\n",
       "      <td>0.053318</td>\n",
       "      <td>0.013264</td>\n",
       "      <td>0.017934</td>\n",
       "      <td>0.015710</td>\n",
       "      <td>0.024193</td>\n",
       "      <td>0.008200</td>\n",
       "      <td>0.018248</td>\n",
       "      <td>0.017179</td>\n",
       "      <td>0.010015</td>\n",
       "      <td>0.035679</td>\n",
       "      <td>0.025966</td>\n",
       "      <td>0.006878</td>\n",
       "      <td>0.023035</td>\n",
       "      <td>0.019307</td>\n",
       "      <td>0.020561</td>\n",
       "      <td>0.019401</td>\n",
       "    </tr>\n",
       "    <tr>\n",
       "      <th>AMZN</th>\n",
       "      <td>0.013264</td>\n",
       "      <td>0.061435</td>\n",
       "      <td>0.015623</td>\n",
       "      <td>0.016119</td>\n",
       "      <td>0.010856</td>\n",
       "      <td>0.002754</td>\n",
       "      <td>0.004193</td>\n",
       "      <td>0.003834</td>\n",
       "      <td>0.013733</td>\n",
       "      <td>0.023542</td>\n",
       "      <td>0.029601</td>\n",
       "      <td>-0.014148</td>\n",
       "      <td>0.033163</td>\n",
       "      <td>0.011785</td>\n",
       "      <td>0.020233</td>\n",
       "      <td>0.007897</td>\n",
       "    </tr>\n",
       "    <tr>\n",
       "      <th>COST</th>\n",
       "      <td>0.017934</td>\n",
       "      <td>0.015623</td>\n",
       "      <td>0.046161</td>\n",
       "      <td>0.000680</td>\n",
       "      <td>0.025930</td>\n",
       "      <td>0.005141</td>\n",
       "      <td>0.002516</td>\n",
       "      <td>0.014094</td>\n",
       "      <td>-0.007034</td>\n",
       "      <td>0.012642</td>\n",
       "      <td>0.027417</td>\n",
       "      <td>0.005179</td>\n",
       "      <td>0.029602</td>\n",
       "      <td>0.014532</td>\n",
       "      <td>0.015325</td>\n",
       "      <td>0.003967</td>\n",
       "    </tr>\n",
       "    <tr>\n",
       "      <th>DIS</th>\n",
       "      <td>0.015710</td>\n",
       "      <td>0.016119</td>\n",
       "      <td>0.000680</td>\n",
       "      <td>0.067899</td>\n",
       "      <td>0.028685</td>\n",
       "      <td>0.002825</td>\n",
       "      <td>0.026300</td>\n",
       "      <td>0.012853</td>\n",
       "      <td>0.052915</td>\n",
       "      <td>0.043508</td>\n",
       "      <td>0.014426</td>\n",
       "      <td>-0.011443</td>\n",
       "      <td>0.031887</td>\n",
       "      <td>0.014663</td>\n",
       "      <td>0.020562</td>\n",
       "      <td>0.030345</td>\n",
       "    </tr>\n",
       "    <tr>\n",
       "      <th>F</th>\n",
       "      <td>0.024193</td>\n",
       "      <td>0.010856</td>\n",
       "      <td>0.025930</td>\n",
       "      <td>0.028685</td>\n",
       "      <td>0.173525</td>\n",
       "      <td>0.005465</td>\n",
       "      <td>0.041572</td>\n",
       "      <td>0.016520</td>\n",
       "      <td>0.047120</td>\n",
       "      <td>0.023961</td>\n",
       "      <td>0.021341</td>\n",
       "      <td>-0.009089</td>\n",
       "      <td>0.056573</td>\n",
       "      <td>0.015334</td>\n",
       "      <td>0.027198</td>\n",
       "      <td>0.053047</td>\n",
       "    </tr>\n",
       "    <tr>\n",
       "      <th>GILD</th>\n",
       "      <td>0.008200</td>\n",
       "      <td>0.002754</td>\n",
       "      <td>0.005141</td>\n",
       "      <td>0.002825</td>\n",
       "      <td>0.005465</td>\n",
       "      <td>0.030523</td>\n",
       "      <td>0.006167</td>\n",
       "      <td>0.006887</td>\n",
       "      <td>0.000625</td>\n",
       "      <td>0.002307</td>\n",
       "      <td>0.001290</td>\n",
       "      <td>0.013106</td>\n",
       "      <td>0.002018</td>\n",
       "      <td>0.007578</td>\n",
       "      <td>0.005262</td>\n",
       "      <td>0.005714</td>\n",
       "    </tr>\n",
       "    <tr>\n",
       "      <th>JPM</th>\n",
       "      <td>0.018248</td>\n",
       "      <td>0.004193</td>\n",
       "      <td>0.002516</td>\n",
       "      <td>0.026300</td>\n",
       "      <td>0.041572</td>\n",
       "      <td>0.006167</td>\n",
       "      <td>0.049353</td>\n",
       "      <td>0.013112</td>\n",
       "      <td>0.041721</td>\n",
       "      <td>0.029662</td>\n",
       "      <td>0.006453</td>\n",
       "      <td>-0.003181</td>\n",
       "      <td>0.014252</td>\n",
       "      <td>0.016003</td>\n",
       "      <td>0.017901</td>\n",
       "      <td>0.041563</td>\n",
       "    </tr>\n",
       "    <tr>\n",
       "      <th>KO</th>\n",
       "      <td>0.017179</td>\n",
       "      <td>0.003834</td>\n",
       "      <td>0.014094</td>\n",
       "      <td>0.012853</td>\n",
       "      <td>0.016520</td>\n",
       "      <td>0.006887</td>\n",
       "      <td>0.013112</td>\n",
       "      <td>0.026009</td>\n",
       "      <td>0.010812</td>\n",
       "      <td>0.018751</td>\n",
       "      <td>0.013642</td>\n",
       "      <td>0.001526</td>\n",
       "      <td>0.000045</td>\n",
       "      <td>0.014395</td>\n",
       "      <td>0.011079</td>\n",
       "      <td>0.014910</td>\n",
       "    </tr>\n",
       "    <tr>\n",
       "      <th>LUV</th>\n",
       "      <td>0.010015</td>\n",
       "      <td>0.013733</td>\n",
       "      <td>-0.007034</td>\n",
       "      <td>0.052915</td>\n",
       "      <td>0.047120</td>\n",
       "      <td>0.000625</td>\n",
       "      <td>0.041721</td>\n",
       "      <td>0.010812</td>\n",
       "      <td>0.123322</td>\n",
       "      <td>0.040564</td>\n",
       "      <td>0.006426</td>\n",
       "      <td>-0.015173</td>\n",
       "      <td>0.040073</td>\n",
       "      <td>0.003963</td>\n",
       "      <td>0.024389</td>\n",
       "      <td>0.046666</td>\n",
       "    </tr>\n",
       "    <tr>\n",
       "      <th>MA</th>\n",
       "      <td>0.035679</td>\n",
       "      <td>0.023542</td>\n",
       "      <td>0.012642</td>\n",
       "      <td>0.043508</td>\n",
       "      <td>0.023961</td>\n",
       "      <td>0.002307</td>\n",
       "      <td>0.029662</td>\n",
       "      <td>0.018751</td>\n",
       "      <td>0.040564</td>\n",
       "      <td>0.099145</td>\n",
       "      <td>0.022453</td>\n",
       "      <td>-0.005619</td>\n",
       "      <td>0.029936</td>\n",
       "      <td>0.024225</td>\n",
       "      <td>0.028088</td>\n",
       "      <td>0.036590</td>\n",
       "    </tr>\n",
       "    <tr>\n",
       "      <th>MSFT</th>\n",
       "      <td>0.025966</td>\n",
       "      <td>0.029601</td>\n",
       "      <td>0.027417</td>\n",
       "      <td>0.014426</td>\n",
       "      <td>0.021341</td>\n",
       "      <td>0.001290</td>\n",
       "      <td>0.006453</td>\n",
       "      <td>0.013642</td>\n",
       "      <td>0.006426</td>\n",
       "      <td>0.022453</td>\n",
       "      <td>0.048843</td>\n",
       "      <td>-0.007550</td>\n",
       "      <td>0.047155</td>\n",
       "      <td>0.018569</td>\n",
       "      <td>0.023404</td>\n",
       "      <td>0.008837</td>\n",
       "    </tr>\n",
       "    <tr>\n",
       "      <th>PFE</th>\n",
       "      <td>0.006878</td>\n",
       "      <td>-0.014148</td>\n",
       "      <td>0.005179</td>\n",
       "      <td>-0.011443</td>\n",
       "      <td>-0.009089</td>\n",
       "      <td>0.013106</td>\n",
       "      <td>-0.003181</td>\n",
       "      <td>0.001526</td>\n",
       "      <td>-0.015173</td>\n",
       "      <td>-0.005619</td>\n",
       "      <td>-0.007550</td>\n",
       "      <td>0.109724</td>\n",
       "      <td>-0.023226</td>\n",
       "      <td>0.002317</td>\n",
       "      <td>-0.005385</td>\n",
       "      <td>-0.004980</td>\n",
       "    </tr>\n",
       "    <tr>\n",
       "      <th>TSLA</th>\n",
       "      <td>0.023035</td>\n",
       "      <td>0.033163</td>\n",
       "      <td>0.029602</td>\n",
       "      <td>0.031887</td>\n",
       "      <td>0.056573</td>\n",
       "      <td>0.002018</td>\n",
       "      <td>0.014252</td>\n",
       "      <td>0.000045</td>\n",
       "      <td>0.040073</td>\n",
       "      <td>0.029936</td>\n",
       "      <td>0.047155</td>\n",
       "      <td>-0.023226</td>\n",
       "      <td>0.300495</td>\n",
       "      <td>0.005099</td>\n",
       "      <td>0.036638</td>\n",
       "      <td>0.014539</td>\n",
       "    </tr>\n",
       "    <tr>\n",
       "      <th>UNH</th>\n",
       "      <td>0.019307</td>\n",
       "      <td>0.011785</td>\n",
       "      <td>0.014532</td>\n",
       "      <td>0.014663</td>\n",
       "      <td>0.015334</td>\n",
       "      <td>0.007578</td>\n",
       "      <td>0.016003</td>\n",
       "      <td>0.014395</td>\n",
       "      <td>0.003963</td>\n",
       "      <td>0.024225</td>\n",
       "      <td>0.018569</td>\n",
       "      <td>0.002317</td>\n",
       "      <td>0.005099</td>\n",
       "      <td>0.041616</td>\n",
       "      <td>0.015693</td>\n",
       "      <td>0.017435</td>\n",
       "    </tr>\n",
       "    <tr>\n",
       "      <th>VTI</th>\n",
       "      <td>0.020561</td>\n",
       "      <td>0.020233</td>\n",
       "      <td>0.015325</td>\n",
       "      <td>0.020562</td>\n",
       "      <td>0.027198</td>\n",
       "      <td>0.005262</td>\n",
       "      <td>0.017901</td>\n",
       "      <td>0.011079</td>\n",
       "      <td>0.024389</td>\n",
       "      <td>0.028088</td>\n",
       "      <td>0.023404</td>\n",
       "      <td>-0.005385</td>\n",
       "      <td>0.036638</td>\n",
       "      <td>0.015693</td>\n",
       "      <td>0.021205</td>\n",
       "      <td>0.021266</td>\n",
       "    </tr>\n",
       "    <tr>\n",
       "      <th>XOM</th>\n",
       "      <td>0.019401</td>\n",
       "      <td>0.007897</td>\n",
       "      <td>0.003967</td>\n",
       "      <td>0.030345</td>\n",
       "      <td>0.053047</td>\n",
       "      <td>0.005714</td>\n",
       "      <td>0.041563</td>\n",
       "      <td>0.014910</td>\n",
       "      <td>0.046666</td>\n",
       "      <td>0.036590</td>\n",
       "      <td>0.008837</td>\n",
       "      <td>-0.004980</td>\n",
       "      <td>0.014539</td>\n",
       "      <td>0.017435</td>\n",
       "      <td>0.021266</td>\n",
       "      <td>0.079526</td>\n",
       "    </tr>\n",
       "  </tbody>\n",
       "</table>\n",
       "</div>"
      ],
      "text/plain": [
       "           ACN      AMZN      COST       DIS         F      GILD       JPM  \\\n",
       "ACN   0.053318  0.013264  0.017934  0.015710  0.024193  0.008200  0.018248   \n",
       "AMZN  0.013264  0.061435  0.015623  0.016119  0.010856  0.002754  0.004193   \n",
       "COST  0.017934  0.015623  0.046161  0.000680  0.025930  0.005141  0.002516   \n",
       "DIS   0.015710  0.016119  0.000680  0.067899  0.028685  0.002825  0.026300   \n",
       "F     0.024193  0.010856  0.025930  0.028685  0.173525  0.005465  0.041572   \n",
       "GILD  0.008200  0.002754  0.005141  0.002825  0.005465  0.030523  0.006167   \n",
       "JPM   0.018248  0.004193  0.002516  0.026300  0.041572  0.006167  0.049353   \n",
       "KO    0.017179  0.003834  0.014094  0.012853  0.016520  0.006887  0.013112   \n",
       "LUV   0.010015  0.013733 -0.007034  0.052915  0.047120  0.000625  0.041721   \n",
       "MA    0.035679  0.023542  0.012642  0.043508  0.023961  0.002307  0.029662   \n",
       "MSFT  0.025966  0.029601  0.027417  0.014426  0.021341  0.001290  0.006453   \n",
       "PFE   0.006878 -0.014148  0.005179 -0.011443 -0.009089  0.013106 -0.003181   \n",
       "TSLA  0.023035  0.033163  0.029602  0.031887  0.056573  0.002018  0.014252   \n",
       "UNH   0.019307  0.011785  0.014532  0.014663  0.015334  0.007578  0.016003   \n",
       "VTI   0.020561  0.020233  0.015325  0.020562  0.027198  0.005262  0.017901   \n",
       "XOM   0.019401  0.007897  0.003967  0.030345  0.053047  0.005714  0.041563   \n",
       "\n",
       "            KO       LUV        MA      MSFT       PFE      TSLA       UNH  \\\n",
       "ACN   0.017179  0.010015  0.035679  0.025966  0.006878  0.023035  0.019307   \n",
       "AMZN  0.003834  0.013733  0.023542  0.029601 -0.014148  0.033163  0.011785   \n",
       "COST  0.014094 -0.007034  0.012642  0.027417  0.005179  0.029602  0.014532   \n",
       "DIS   0.012853  0.052915  0.043508  0.014426 -0.011443  0.031887  0.014663   \n",
       "F     0.016520  0.047120  0.023961  0.021341 -0.009089  0.056573  0.015334   \n",
       "GILD  0.006887  0.000625  0.002307  0.001290  0.013106  0.002018  0.007578   \n",
       "JPM   0.013112  0.041721  0.029662  0.006453 -0.003181  0.014252  0.016003   \n",
       "KO    0.026009  0.010812  0.018751  0.013642  0.001526  0.000045  0.014395   \n",
       "LUV   0.010812  0.123322  0.040564  0.006426 -0.015173  0.040073  0.003963   \n",
       "MA    0.018751  0.040564  0.099145  0.022453 -0.005619  0.029936  0.024225   \n",
       "MSFT  0.013642  0.006426  0.022453  0.048843 -0.007550  0.047155  0.018569   \n",
       "PFE   0.001526 -0.015173 -0.005619 -0.007550  0.109724 -0.023226  0.002317   \n",
       "TSLA  0.000045  0.040073  0.029936  0.047155 -0.023226  0.300495  0.005099   \n",
       "UNH   0.014395  0.003963  0.024225  0.018569  0.002317  0.005099  0.041616   \n",
       "VTI   0.011079  0.024389  0.028088  0.023404 -0.005385  0.036638  0.015693   \n",
       "XOM   0.014910  0.046666  0.036590  0.008837 -0.004980  0.014539  0.017435   \n",
       "\n",
       "           VTI       XOM  \n",
       "ACN   0.020561  0.019401  \n",
       "AMZN  0.020233  0.007897  \n",
       "COST  0.015325  0.003967  \n",
       "DIS   0.020562  0.030345  \n",
       "F     0.027198  0.053047  \n",
       "GILD  0.005262  0.005714  \n",
       "JPM   0.017901  0.041563  \n",
       "KO    0.011079  0.014910  \n",
       "LUV   0.024389  0.046666  \n",
       "MA    0.028088  0.036590  \n",
       "MSFT  0.023404  0.008837  \n",
       "PFE  -0.005385 -0.004980  \n",
       "TSLA  0.036638  0.014539  \n",
       "UNH   0.015693  0.017435  \n",
       "VTI   0.021205  0.021266  \n",
       "XOM   0.021266  0.079526  "
      ]
     },
     "execution_count": 7,
     "metadata": {},
     "output_type": "execute_result"
    }
   ],
   "source": [
    "from pypfopt import risk_models\n",
    "from pypfopt import plotting\n",
    "\n",
    "sample_cov = risk_models.exp_cov(prices, frequency=252)\n",
    "sample_cov"
   ]
  },
  {
   "cell_type": "code",
   "execution_count": 8,
   "metadata": {},
   "outputs": [
    {
     "data": {
      "image/png": "[encoded data removed]",
      "text/plain": [
       "<Figure size 432x288 with 2 Axes>"
      ]
     },
     "metadata": {
      "needs_background": "light"
     },
     "output_type": "display_data"
    }
   ],
   "source": [
    "plotting.plot_covariance(sample_cov, plot_correlation=True);"
   ]
  },
  {
   "cell_type": "markdown",
   "metadata": {},
   "source": [
    "For reasons discussed in the docs, the sample covariance matrix should not be your default choice. I think a better option is Ledoit-Wolf shrinkage, which reduces the extreme values in the covariance matrix. In the image below, we can see that there are fewer bright spots outside the diagonal:"
   ]
  },
  {
   "cell_type": "code",
   "execution_count": 9,
   "metadata": {},
   "outputs": [
    {
     "data": {
      "image/png": "[encoded data removed]",
      "text/plain": [
       "<Figure size 432x288 with 2 Axes>"
      ]
     },
     "metadata": {
      "needs_background": "light"
     },
     "output_type": "display_data"
    }
   ],
   "source": [
    "S = risk_models.CovarianceShrinkage(prices).ledoit_wolf()\n",
    "plotting.plot_covariance(S, plot_correlation=True);"
   ]
  },
  {
   "cell_type": "markdown",
   "metadata": {},
   "source": [
    "## Return estimation\n",
    "\n",
    "As discussed in the docs, it is often a bad idea to provide returns using a simple estimate like the mean of past returns. Unless you have a proprietary method for estimating returns, research suggests that you may be better off not providing expected returns – you can then just find the `min_volatility()` portfolio or use `HRP`. \n",
    "\n",
    "However, in this example we will use the CAPM returns, which aims to be slightly more stable than the default mean historical return. Please see the notebook `1-RiskReturnModels.ipynb` for more information."
   ]
  },
  {
   "cell_type": "code",
   "execution_count": 10,
   "metadata": {},
   "outputs": [
    {
     "data": {
      "text/plain": [
       "ACN     0.207715\n",
       "AMZN    0.355650\n",
       "COST    0.195494\n",
       "DIS     0.225671\n",
       "F       0.225002\n",
       "GILD    0.256744\n",
       "JPM     0.254610\n",
       "KO      0.149948\n",
       "LUV     0.228559\n",
       "MA      0.262037\n",
       "MSFT    0.240321\n",
       "PFE     0.180255\n",
       "TSLA    0.275101\n",
       "UNH     0.222715\n",
       "VTI     0.198547\n",
       "XOM     0.143299\n",
       "Name: mkt, dtype: float64"
      ]
     },
     "execution_count": 10,
     "metadata": {},
     "output_type": "execute_result"
    }
   ],
   "source": [
    "from pypfopt import expected_returns\n",
    "\n",
    "mu = expected_returns.capm_return(prices)\n",
    "mu"
   ]
  },
  {
   "cell_type": "code",
   "execution_count": 11,
   "metadata": {},
   "outputs": [
    {
     "data": {
      "image/png": "[encoded data removed]",
      "text/plain": [
       "<Figure size 720x432 with 1 Axes>"
      ]
     },
     "metadata": {
      "needs_background": "light"
     },
     "output_type": "display_data"
    }
   ],
   "source": [
    "mu.plot.barh(figsize=(10,6));"
   ]
  },
  {
   "cell_type": "markdown",
   "metadata": {},
   "source": [
    "## Long/short min variance\n",
    "\n",
    "In this section, we construct a long/short portfolio with the objective of minimising variance. There is a good deal of research that demonstrates that these global-minimum variance (GMV) portfolios outperform mean-variance optimized portfolios."
   ]
  },
  {
   "cell_type": "code",
   "execution_count": 18,
   "metadata": {},
   "outputs": [],
   "source": [
    "from pypfopt import EfficientFrontier"
   ]
  },
  {
   "cell_type": "code",
   "execution_count": 63,
   "metadata": {},
   "outputs": [],
   "source": [
    "S_cs = risk_models.CovarianceShrinkage(prices).ledoit_wolf()\n",
    "S_ec = risk_models.exp_cov(prices)\n",
    "# You don't have to provide expected returns in this case\n",
    "ef_cs = EfficientFrontier(None, S_cs)\n",
    "ef_ec = EfficientFrontier(None, S_ec)\n",
    "ef_cs.min_volatility()\n",
    "ef_ec.min_volatility()\n",
    "weights_cs = ef_cs.clean_weights()\n",
    "weights_ec = ef_ec.clean_weights()"
   ]
  },
  {
   "cell_type": "code",
   "execution_count": 74,
   "metadata": {},
   "outputs": [
    {
     "data": {
      "image/png": "[encoded data removed]",
      "text/plain": [
       "<Figure size 1080x720 with 1 Axes>"
      ]
     },
     "metadata": {
      "needs_background": "light"
     },
     "output_type": "display_data"
    }
   ],
   "source": [
    "pd.Series(weights_ec).plot.barh(figsize=(15,10));"
   ]
  },
  {
   "cell_type": "code",
   "execution_count": 75,
   "metadata": {},
   "outputs": [
    {
     "data": {
      "text/plain": [
       "<AxesSubplot:>"
      ]
     },
     "execution_count": 75,
     "metadata": {},
     "output_type": "execute_result"
    },
    {
     "data": {
      "image/png": "[encoded data removed]",
      "text/plain": [
       "<Figure size 1080x720 with 1 Axes>"
      ]
     },
     "metadata": {
      "needs_background": "light"
     },
     "output_type": "display_data"
    }
   ],
   "source": [
    "cs_weights_df = pd.Series(weights_cs).to_frame(name='CovShrink')\n",
    "ec_weights_df = pd.Series(weights_ec).to_frame(name='ExpCov')\n",
    "# weights_ec['risk_model']='exp_cov'\n",
    "df1 = pd.concat([cs_weights_df,ec_weights_df],axis=1)\n",
    "df1.plot.barh(figsize=(15,10))"
   ]
  },
  {
   "cell_type": "markdown",
   "metadata": {},
   "source": [
    "We can get a quick indication of the portfolio performance as follows. Note that this is an in sample estimate and may have very little resemblance to how the portfolio actually performs!"
   ]
  },
  {
   "cell_type": "code",
   "execution_count": 76,
   "metadata": {},
   "outputs": [
    {
     "name": "stdout",
     "output_type": "stream",
     "text": [
      "Annual volatility: 10.8%\n"
     ]
    }
   ],
   "source": [
    "ef_cs.portfolio_performance(verbose=True);"
   ]
  },
  {
   "cell_type": "code",
   "execution_count": 77,
   "metadata": {},
   "outputs": [
    {
     "name": "stdout",
     "output_type": "stream",
     "text": [
      "Annual volatility: 10.9%\n"
     ]
    }
   ],
   "source": [
    "ef_ec.portfolio_performance(verbose=True);"
   ]
  },
  {
   "cell_type": "markdown",
   "metadata": {},
   "source": [
    "Let's say we were happy with this portfolio and wanted to actually go out and buy the shares.  To do this, we would need to construct a **discrete allocation** (unless your broker supports fractional shares!)\n",
    "\n",
    "If we had \\$20,0000 to invest and would like our portfolio to be 130/30 long/short, we can construct the actual allocation as follows:"
   ]
  },
  {
   "cell_type": "code",
   "execution_count": 78,
   "metadata": {},
   "outputs": [
    {
     "name": "stdout",
     "output_type": "stream",
     "text": [
      "Long-step dual simplex will be used\n",
      "Discrete allocation performed with $13.22 leftover\n"
     ]
    },
    {
     "data": {
      "text/plain": [
       "{'ACN': 2,\n",
       " 'COST': 2,\n",
       " 'GILD': 2,\n",
       " 'KO': 29,\n",
       " 'MA': 2,\n",
       " 'PFE': 9,\n",
       " 'TSLA': 2,\n",
       " 'VTI': 53}"
      ]
     },
     "execution_count": 78,
     "metadata": {},
     "output_type": "execute_result"
    }
   ],
   "source": [
    "from pypfopt import DiscreteAllocation\n",
    "\n",
    "latest_prices = prices.iloc[-1]  # prices as of the day you are allocating\n",
    "da = DiscreteAllocation(weights_cs, latest_prices, total_portfolio_value=20000)\n",
    "alloc, leftover = da.lp_portfolio()\n",
    "print(f\"Discrete allocation performed with ${leftover:.2f} leftover\")\n",
    "alloc"
   ]
  },
  {
   "cell_type": "code",
   "execution_count": 79,
   "metadata": {},
   "outputs": [
    {
     "ename": "TypeError",
     "evalue": "download() missing 1 required positional argument: 'self'",
     "output_type": "error",
     "traceback": [
      "\u001b[0;31m---------------------------------------------------------------------------\u001b[0m",
      "\u001b[0;31mTypeError\u001b[0m                                 Traceback (most recent call last)",
      "\u001b[0;32m/var/folders/t7/3_66177j5p30wqf4lxtblnx80000gn/T/ipykernel_51185/2608607477.py\u001b[0m in \u001b[0;36m<module>\u001b[0;34m\u001b[0m\n\u001b[0;32m----> 1\u001b[0;31m \u001b[0myf\u001b[0m\u001b[0;34m.\u001b[0m\u001b[0mTickers\u001b[0m\u001b[0;34m.\u001b[0m\u001b[0mdownload\u001b[0m\u001b[0;34m(\u001b[0m\u001b[0;34m)\u001b[0m\u001b[0;34m\u001b[0m\u001b[0;34m\u001b[0m\u001b[0m\n\u001b[0m",
      "\u001b[0;31mTypeError\u001b[0m: download() missing 1 required positional argument: 'self'"
     ]
    }
   ],
   "source": [
    "yf.Tickers.download()"
   ]
  },
  {
   "cell_type": "code",
   "execution_count": null,
   "metadata": {},
   "outputs": [],
   "source": []
  }
 ],
 "metadata": {
  "kernelspec": {
   "display_name": "Python 3 (ipykernel)",
   "language": "python",
   "name": "python3"
  },
  "language_info": {
   "codemirror_mode": {
    "name": "ipython",
    "version": 3
   },
   "file_extension": ".py",
   "mimetype": "text/x-python",
   "name": "python",
   "nbconvert_exporter": "python",
   "pygments_lexer": "ipython3",
   "version": "3.9.8"
  }
 },
 "nbformat": 4,
 "nbformat_minor": 4
}
